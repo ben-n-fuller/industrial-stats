{
 "cells": [
  {
   "cell_type": "markdown",
   "metadata": {},
   "source": [
    "# Coordinate Exchange for I-Optimal Designs"
   ]
  },
  {
   "cell_type": "markdown",
   "metadata": {},
   "source": [
    "## Packages"
   ]
  },
  {
   "cell_type": "code",
   "execution_count": null,
   "metadata": {},
   "outputs": [],
   "source": [
    "# Set the number of processes to use for parallel computing\n",
    "using Distributed\n",
    "addprocs(14)"
   ]
  },
  {
   "cell_type": "code",
   "execution_count": 3,
   "metadata": {},
   "outputs": [],
   "source": [
    "using LinearAlgebra\n",
    "using HDF5\n",
    "using Dates\n",
    "\n",
    "@everywhere include(\"../model_builder/model_builder.jl\")\n",
    "@everywhere using .ModelBuilder\n",
    "\n",
    "@everywhere include(\"../model_builder/design_initializer.jl\")\n",
    "@everywhere using .DesignInitializer\n",
    "\n",
    "@everywhere include(\"./design_optimizer.jl\")\n",
    "@everywhere using .DesignOptimizer\n",
    "\n",
    "@everywhere include(\"../cexch/cexch.jl\")\n",
    "@everywhere using .CEXCH\n",
    "\n",
    "@everywhere include(\"./optimality_criterion.jl\")\n",
    "@everywhere using .OptimalityCriterion\n",
    "\n",
    "@everywhere using IterTools: product"
   ]
  },
  {
   "cell_type": "markdown",
   "metadata": {},
   "source": [
    "## Run"
   ]
  },
  {
   "cell_type": "code",
   "execution_count": 3,
   "metadata": {},
   "outputs": [
    {
     "data": {
      "text/plain": [
       "Base.Iterators.ProductIterator{Tuple{UnitRange{Int64}, Vector{Int64}, Base.Iterators.Zip{Tuple{Vector{String}, Vector{Main.ModelBuilder.var\"#model_builder#19\"{Int64, Int64, Bool, Vector{Any}, Bool, Bool}}, Vector{Main.DesignOptimizer.var\"#10#11\"{String, Main.ModelBuilder.var\"#model_builder#19\"{Int64, Int64, Bool, Vector{Any}, Bool, Bool}}}}}}}((6:10, [3], zip([\"scheffe_2\", \"special_cubic\"], Main.ModelBuilder.var\"#model_builder#19\"{Int64, Int64, Bool, Vector{Any}, Bool, Bool}[Main.ModelBuilder.var\"#model_builder#19\"{Int64, Int64, Bool, Vector{Any}, Bool, Bool}(1, 1, false, Any[], false, true), Main.ModelBuilder.var\"#model_builder#19\"{Int64, Int64, Bool, Vector{Any}, Bool, Bool}(1, 2, false, Any[], false, true)], Main.DesignOptimizer.var\"#10#11\"{String, Main.ModelBuilder.var\"#model_builder#19\"{Int64, Int64, Bool, Vector{Any}, Bool, Bool}}[Main.DesignOptimizer.var\"#10#11\"{String, Main.ModelBuilder.var\"#model_builder#19\"{Int64, Int64, Bool, Vector{Any}, Bool, Bool}}(\"scheffe_2\", Main.ModelBuilder.var\"#model_builder#19\"{Int64, Int64, Bool, Vector{Any}, Bool, Bool}(1, 1, false, Any[], false, true)), Main.DesignOptimizer.var\"#10#11\"{String, Main.ModelBuilder.var\"#model_builder#19\"{Int64, Int64, Bool, Vector{Any}, Bool, Bool}}(\"special_cubic\", Main.ModelBuilder.var\"#model_builder#19\"{Int64, Int64, Bool, Vector{Any}, Bool, Bool}(1, 2, false, Any[], false, true))])))"
      ]
     },
     "metadata": {},
     "output_type": "display_data"
    }
   ],
   "source": [
    "@everywhere NUM_INITIALIZATIONS = 12\n",
    "@everywhere DESIGNS_PER_INITIALIZATION = 5000\n",
    "@everywhere MAX_ITERS = 50\n",
    "@everywhere NUM_SAMPLES = 100\n",
    "@everywhere Ns = 6:9\n",
    "@everywhere Ks = [3]\n",
    "@everywhere models = [\"scheffe_2\", \"special_cubic\"]\n",
    "@everywhere model_builders = [ModelBuilder.scheffe(2), ModelBuilder.special_cubic]\n",
    "@everywhere obj_crits = [DesignOptimizer.i_criterion(model_builders[i], model=models[i]) for i in 1:length(models)]"
   ]
  },
  {
   "cell_type": "code",
   "execution_count": 18,
   "metadata": {},
   "outputs": [
    {
     "data": {
      "text/plain": [
       "cexch_exp (generic function with 2 methods)"
      ]
     },
     "metadata": {},
     "output_type": "display_data"
    }
   ],
   "source": [
    "# Function to be executed in parallel for different design initializations\n",
    "@everywhere function optimize_designs(designs, obj_crit, max_iters, num_samples)\n",
    "    CEXCH.cexch(designs, obj_crit, max_iters=max_iters, num_samples=num_samples)\n",
    "end\n",
    "\n",
    "# Optimize NxK designs w.r.t. a specific model and objective criterion\n",
    "function cexch_exp(N, K, model, model_builder, obj_crit)\n",
    "    # Get initializer function\n",
    "    init = DesignInitializer.initializer(N, K, model_builder, type=\"mixture\")\n",
    "\n",
    "    # Initialize designs, will be shape (NUM_INITIALIZATIONS, DESIGNS_PER_INITIALIZATION, N, K)\n",
    "    design_inits = [init(DESIGNS_PER_INITIALIZATION) for _ in 1:NUM_INITIALIZATIONS]\n",
    "\n",
    "    # Optimize designs in parallel\n",
    "    results = pmap(x -> optimize_designs(x, obj_crit, MAX_ITERS, NUM_SAMPLES), design_inits)\n",
    "    opt_designs, meta = vcat([r[1] for r in results]...), vcat([r[2] for r in results]...)\n",
    "\n",
    "    return opt_designs, meta\n",
    "end"
   ]
  },
  {
   "cell_type": "code",
   "execution_count": 19,
   "metadata": {},
   "outputs": [
    {
     "name": "stdout",
     "output_type": "stream",
     "text": [
      "Starting 6 jobs at 2024-02-07T17:28:22.462"
     ]
    },
    {
     "name": "stdout",
     "output_type": "stream",
     "text": [
      "\n"
     ]
    },
    {
     "name": "stdout",
     "output_type": "stream",
     "text": [
      "Finished job scheffe_2_6_3 at 2024-02-07T17:28:44.452\n"
     ]
    },
    {
     "name": "stdout",
     "output_type": "stream",
     "text": [
      "Finished job scheffe_2_7_3 at 2024-02-07T17:29:05.698"
     ]
    },
    {
     "name": "stdout",
     "output_type": "stream",
     "text": [
      "\n"
     ]
    },
    {
     "name": "stdout",
     "output_type": "stream",
     "text": [
      "Finished job scheffe_2_8_3 at 2024-02-07T17:29:30.543\n"
     ]
    },
    {
     "name": "stdout",
     "output_type": "stream",
     "text": [
      "Finished job special_cubic_6_3 at 2024-02-07T17:29:31.955\n"
     ]
    },
    {
     "name": "stdout",
     "output_type": "stream",
     "text": [
      "Finished job special_cubic_7_3 at 2024-02-07T17:29:55.269\n"
     ]
    },
    {
     "name": "stdout",
     "output_type": "stream",
     "text": [
      "Finished job special_cubic_8_3 at 2024-02-07T17:30:22.887\n"
     ]
    }
   ],
   "source": [
    "# Run jobs\n",
    "jobs = product(Ns, Ks, zip(models, model_builders, obj_crits))\n",
    "println(\"Starting $(length(jobs)) jobs at $(Dates.now())\")\n",
    "for job in jobs\n",
    "    N, K, (model, model_builder, obj_crit) = job\n",
    "    opt_designs, meta = cexch_exp(N, K, model, model_builder, obj_crit)\n",
    "    \n",
    "    # Persist to file\n",
    "    h5write(\"test.h5\", \"designs_$(model)_$(N)_$(K)\", opt_designs)\n",
    "    h5write(\"test.h5\", \"meta_$(model)_$(N)_$(K)\", meta)\n",
    "    println(\"Finished job $(model)_$(N)_$(K) at $(Dates.now())\")\n",
    "end"
   ]
  },
  {
   "cell_type": "code",
   "execution_count": null,
   "metadata": {},
   "outputs": [],
   "source": [
    "model_builder = ModelBuilder.scheffe(2)\n",
    "init = DesignInitializer.initializer(7, 3, model_builder, type=\"mixture\")\n",
    "scorer = OptimalityCriterion.i_criterion(model_builder, model=\"scheffe_2\")\n",
    "\n",
    "designs = init(10_000_000)\n",
    "models = model_builder(designs)\n",
    "scores = scorer(designs)"
   ]
  },
  {
   "cell_type": "code",
   "execution_count": 5,
   "metadata": {},
   "outputs": [],
   "source": [
    "h5write(\"../../../data/random_designs.h5\", \"designs_scheffe_2_6_3\", designs)\n",
    "h5write(\"../../../data/random_designs.h5\", \"scores_scheffe_2_6_3\", scores)"
   ]
  },
  {
   "cell_type": "code",
   "execution_count": 19,
   "metadata": {},
   "outputs": [
    {
     "name": "stdout",
     "output_type": "stream",
     "text": [
      "designs_scheffe_2_6_3\n",
      "designs_scheffe_2_7_3\n",
      "scores_scheffe_2_6_3\n",
      "scores_scheffe_2_7_3\n"
     ]
    }
   ],
   "source": [
    "file = h5open(\"../../../data/random_designs.h5\", \"r\")\n",
    "for k in keys(file)\n",
    "    println(k)\n",
    "end"
   ]
  },
  {
   "cell_type": "code",
   "execution_count": 14,
   "metadata": {},
   "outputs": [],
   "source": [
    "file = h5open(\"../../../data/random_designs.h5\", \"r\")\n",
    "scores = read(file, \"scores_scheffe_2_7_3\")\n",
    "rand_designs = read(file, \"designs_scheffe_2_7_3\")\n",
    "close(file)"
   ]
  },
  {
   "cell_type": "code",
   "execution_count": 15,
   "metadata": {},
   "outputs": [
    {
     "data": {
      "text/plain": [
       "(0.612632917151271, 7277861)"
      ]
     },
     "metadata": {},
     "output_type": "display_data"
    }
   ],
   "source": [
    "min_score, min_idx = findmin(scores)"
   ]
  },
  {
   "cell_type": "code",
   "execution_count": 16,
   "metadata": {},
   "outputs": [
    {
     "data": {
      "text/plain": [
       "7×3 Matrix{Float64}:\n",
       " 0.932867   0.0508465  0.0162868\n",
       " 0.0121395  0.980692   0.00716893\n",
       " 0.0437565  0.51234    0.443903\n",
       " 0.0605962  0.0572674  0.882136\n",
       " 0.565443   0.0350885  0.399469\n",
       " 0.270124   0.378659   0.351217\n",
       " 0.511407   0.419125   0.0694677"
      ]
     },
     "metadata": {},
     "output_type": "display_data"
    }
   ],
   "source": [
    "rand_designs[min_idx, :, :]"
   ]
  },
  {
   "cell_type": "code",
   "execution_count": 17,
   "metadata": {},
   "outputs": [
    {
     "data": {
      "text/plain": [
       "4×1 Matrix{Float64}:\n",
       "  50.0\n",
       "  50.0\n",
       " 100.0\n",
       "   0.5042224097471181"
      ]
     },
     "metadata": {},
     "output_type": "display_data"
    }
   ],
   "source": [
    "file = h5open(\"../../../data/i_optimal_designs.h5\", \"r\")\n",
    "X = read(file[\"designs_scheffe_2_7_3\"])\n",
    "meta = read(file[\"meta_scheffe_2_7_3\"])\n",
    "close(file)\n",
    "\n",
    "# X[1, : , :]\n",
    "meta[1, :,:]"
   ]
  },
  {
   "cell_type": "code",
   "execution_count": 21,
   "metadata": {},
   "outputs": [
    {
     "name": "stdout",
     "output_type": "stream",
     "text": [
      "designs_scheffe_2_6_3\n",
      "designs_scheffe_2_7_3\n",
      "designs_scheffe_2_8_3\n",
      "designs_scheffe_2_9_3\n",
      "designs_special_cubic_10_3\n",
      "designs_special_cubic_6_3\n",
      "designs_special_cubic_7_3\n",
      "designs_special_cubic_8_3\n",
      "designs_special_cubic_9_3\n",
      "meta_scheffe_2_6_3\n",
      "meta_scheffe_2_7_3\n",
      "meta_scheffe_2_8_3\n",
      "meta_scheffe_2_9_3\n",
      "meta_special_cubic_10_3\n",
      "meta_special_cubic_6_3\n",
      "meta_special_cubic_7_3\n",
      "meta_special_cubic_8_3\n",
      "meta_special_cubic_9_3\n"
     ]
    }
   ],
   "source": [
    "file = h5open(\"../../../data/i_optimal_designs.h5\", \"r\")\n",
    "for k in keys(file)\n",
    "    println(k)\n",
    "end\n",
    "close(file)\n",
    "\n",
    "# X[1, : , :]\n",
    "# meta[1, :,:]"
   ]
  }
 ],
 "metadata": {
  "kernelspec": {
   "display_name": "Julia 1.9.3",
   "language": "julia",
   "name": "julia-1.9"
  },
  "language_info": {
   "file_extension": ".jl",
   "mimetype": "application/julia",
   "name": "julia",
   "version": "1.9.3"
  }
 },
 "nbformat": 4,
 "nbformat_minor": 2
}
