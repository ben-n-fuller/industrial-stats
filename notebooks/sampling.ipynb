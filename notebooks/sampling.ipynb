{
 "cells": [
  {
   "cell_type": "markdown",
   "metadata": {},
   "source": [
    "# Sampling Exploration\n",
    "This notebook explores different algorithms for sampling from a constrained subregion of a simplex.  "
   ]
  },
  {
   "cell_type": "markdown",
   "metadata": {},
   "source": [
    "## Imports"
   ]
  },
  {
   "cell_type": "code",
   "execution_count": 48,
   "metadata": {},
   "outputs": [
    {
     "name": "stderr",
     "output_type": "stream",
     "text": [
      "WARNING: replacing module ModelBuilder.\n",
      "WARNING: using ModelBuilder.squeeze in module Main conflicts with an existing identifier.\n",
      "WARNING: replacing module DesignInitializer.\n",
      "WARNING: replacing module OptimalityCriterion.\n",
      "WARNING: replacing module Util.\n",
      "WARNING: ignoring conflicting import of Util.squeeze into Main\n"
     ]
    }
   ],
   "source": [
    "using LinearAlgebra\n",
    "using Optim\n",
    "using Polyhedra\n",
    "using CDDLib\n",
    "using Statistics\n",
    "using Distributions\n",
    "using GLPK\n",
    "using JuMP\n",
    "using MathOptInterface\n",
    "\n",
    "include(\"../model_builder/model_builder.jl\")\n",
    "using .ModelBuilder\n",
    "\n",
    "include(\"../model_builder/design_initializer.jl\")\n",
    "using .DesignInitializer\n",
    "\n",
    "include(\"../optimization/optimality_criterion.jl\")\n",
    "using .OptimalityCriterion\n",
    "\n",
    "include(\"./tensor_ops.jl\")\n",
    "import .TensorOps: squeeze"
   ]
  },
  {
   "cell_type": "markdown",
   "metadata": {},
   "source": [
    "## Gibbs Sampler\n",
    "The Gibbs sampler for the Dirichlet distribution works by sampling from a single component beta distribution conditioned on the other components.   "
   ]
  },
  {
   "cell_type": "code",
   "execution_count": 2,
   "metadata": {},
   "outputs": [
    {
     "data": {
      "text/plain": [
       "6-element Vector{Float64}:\n",
       "  0.4\n",
       "  0.7\n",
       "  1.0\n",
       " -0.1\n",
       " -0.2\n",
       "  0.0"
      ]
     },
     "metadata": {},
     "output_type": "display_data"
    }
   ],
   "source": [
    "# A: 2n x n matrix\n",
    "# b: 2n x 1 vector\n",
    "A = [\n",
    "    I(3);\n",
    "    -I(3)\n",
    "]\n",
    "\n",
    "b = [0.4, 0.7, 1, -0.1, -0.2, 0]"
   ]
  },
  {
   "cell_type": "code",
   "execution_count": 49,
   "metadata": {},
   "outputs": [
    {
     "data": {
      "text/plain": [
       "minimize_at_index (generic function with 1 method)"
      ]
     },
     "metadata": {},
     "output_type": "display_data"
    }
   ],
   "source": [
    "function compute_centroid(A, b)\n",
    "    p = polyhedron(hrep(A, b), CDDLib.Library())\n",
    "    verts = collect(points(vrep(p)))\n",
    "    centroid = mean(verts, dims=1)\n",
    "    return centroid[1]\n",
    "end\n",
    "\n",
    "function get_optimizer(A, b, fixed_indices, fixed_values)\n",
    "    n = size(A, 2)\n",
    "    model = Model(GLPK.Optimizer)\n",
    "    @variable(model, x[1:n])\n",
    "    @constraint(model, A*x .<= b)\n",
    "\n",
    "    # Fix the values of the fixed indices\n",
    "    for (i, val) in zip(fixed_indices, fixed_values)\n",
    "        set_lower_bound(x[i], val)\n",
    "        set_upper_bound(x[i], val)\n",
    "    end\n",
    "\n",
    "    return model\n",
    "end\n",
    "\n",
    "function optim(model)\n",
    "    optimize!(model)\n",
    "    if termination_status(model) == MOI.OPTIMAL\n",
    "        x = model[:x]\n",
    "        return value.(x)\n",
    "    else\n",
    "        return nothing\n",
    "    end\n",
    "end\n",
    "\n",
    "function maximize_at_index(model, target_index)\n",
    "    x = model[:x]\n",
    "    set_objective_function(model, Max, x[target_index])\n",
    "    return optim(model)\n",
    "end\n",
    "\n",
    "function minimize_at_index(model, target_index)\n",
    "    x = model[:x]\n",
    "    set_objective_function(model, Min, x[target_index])\n",
    "    return optim(model)\n",
    "end"
   ]
  },
  {
   "cell_type": "code",
   "execution_count": 50,
   "metadata": {},
   "outputs": [
    {
     "data": {
      "text/plain": [
       "A JuMP Model\n",
       "Feasibility problem with:\n",
       "Variables: 3\n",
       "`AffExpr`-in-`MathOptInterface.LessThan{Float64}`: 6 constraints\n",
       "`VariableRef`-in-`MathOptInterface.GreaterThan{Float64}`: 2 constraints\n",
       "`VariableRef`-in-`MathOptInterface.LessThan{Float64}`: 2 constraints\n",
       "Model mode: AUTOMATIC\n",
       "CachingOptimizer state: EMPTY_OPTIMIZER\n",
       "Solver name: GLPK\n",
       "Names registered in the model: x"
      ]
     },
     "metadata": {},
     "output_type": "display_data"
    }
   ],
   "source": [
    "m = get_optimizer(A, b, [2, 3], [cand[2], cand[3]])"
   ]
  },
  {
   "cell_type": "code",
   "execution_count": 51,
   "metadata": {},
   "outputs": [
    {
     "ename": "UndefVarError",
     "evalue": "UndefVarError: `Max` not defined",
     "output_type": "error",
     "traceback": [
      "UndefVarError: `Max` not defined\n",
      "\n",
      "Stacktrace:\n",
      " [1] maximize_at_index(model::Model, target_index::Int64)\n",
      "   @ Main d:\\School\\Grad School\\Research\\code\\doe\\utility\\sampling.ipynb:35\n",
      " [2] top-level scope\n",
      "   @ d:\\School\\Grad School\\Research\\code\\doe\\utility\\sampling.ipynb:1"
     ]
    }
   ],
   "source": [
    "maximize_at_index(m, 1)"
   ]
  },
  {
   "cell_type": "code",
   "execution_count": 35,
   "metadata": {},
   "outputs": [
    {
     "data": {
      "text/plain": [
       "2-element Vector{Float64}:\n",
       " 0.44999999999999996\n",
       " 0.5"
      ]
     },
     "metadata": {},
     "output_type": "display_data"
    }
   ],
   "source": [
    "# Initialize\n",
    "cent = compute_centroid(A, b)\n",
    "cand = cent\n",
    "\n",
    "# Iterate through the vector\n",
    "# for i in axes(cent, 1)\n",
    "    \n",
    "# end\n",
    "\n",
    "# Fix the current element and consider the sub-vector of the remaining elems\n",
    "i = 1\n",
    "subvec = vcat(cand[1:i-1], cand[i+1:end])\n",
    "xi_star = 1 - sum(subvec)\n"
   ]
  },
  {
   "cell_type": "code",
   "execution_count": 10,
   "metadata": {},
   "outputs": [
    {
     "data": {
      "text/plain": [
       "10-element Vector{Float64}:\n",
       " 0.32279157066047887\n",
       " 0.563001066739471\n",
       " 0.44065402202756315\n",
       " 0.3175684759392291\n",
       " 0.36800795658459345\n",
       " 0.37249660983465255\n",
       " 0.5928533865087219\n",
       " 0.5875394829875608\n",
       " 0.4846212249720399\n",
       " 0.46337527620424346"
      ]
     },
     "metadata": {},
     "output_type": "display_data"
    }
   ],
   "source": [
    "dist = truncated(Beta(1, 1), .3, .6)\n",
    "rand(dist, 10)"
   ]
  },
  {
   "cell_type": "code",
   "execution_count": 8,
   "metadata": {},
   "outputs": [
    {
     "data": {
      "text/plain": [
       "3-element Vector{Float64}:\n",
       " 0.16666666666666669\n",
       " 0.27777777777777773\n",
       " 0.5555555555555556"
      ]
     },
     "metadata": {},
     "output_type": "display_data"
    }
   ],
   "source": [
    "# Gibbs sampler for unconstrained simplex\n",
    "# A is a matrix describing the upper and lower bounds for each component\n",
    "# function gibbs_sample_constrained_simplex(A, b, N, K; n = 1)\n",
    "\n",
    "m, n = size(A)\n",
    "\n",
    "# Initialize with a value respecting all of the upper and lower bound constraints\n",
    "# Since we only have upper and lower bounds we can take the mean of the two bounds\n",
    "x = zeros(n)\n",
    "dists = []\n",
    "for i in 1:n\n",
    "    # Get the positive indices and negative indices for upper/lower bounds\n",
    "    pos_idx = findall(x -> x > 0, A[:, i])\n",
    "    neg_idx = findall(x -> x < 0, A[:, i])\n",
    "\n",
    "    upper, lower = b[pos_idx[1]], abs(b[neg_idx[1]])\n",
    "\n",
    "    # Compute initial value in feasible region\n",
    "    x[i] = (upper - lower) / 2\n",
    "\n",
    "    # Build beta distribution for component\n",
    "    dist = Beta(1, n - 1)\n",
    "    trunc_dist = Truncated(dist, lower, upper)\n",
    "    push!(dists, trunc_dist)\n",
    "end\n",
    "\n",
    "# Enforce sum-to-one constraint\n",
    "x = x / sum(x)\n"
   ]
  },
  {
   "cell_type": "markdown",
   "metadata": {},
   "source": [
    "## Smallest Bounding Hypercube Rejection Sampling"
   ]
  },
  {
   "cell_type": "code",
   "execution_count": 10,
   "metadata": {},
   "outputs": [
    {
     "data": {
      "text/plain": [
       "get_simplex_constraints (generic function with 1 method)"
      ]
     },
     "metadata": {},
     "output_type": "display_data"
    }
   ],
   "source": [
    "function simple_simplex_sampler(N, K)\n",
    "    a = ones(K)\n",
    "    sampler = Dirichlet(a)\n",
    "    samples = zeros(N, K)\n",
    "\n",
    "    for i in axes(samples, 1)\n",
    "        samples[i, :] .= rand(sampler)\n",
    "    end\n",
    "\n",
    "    return samples\n",
    "end\n",
    "\n",
    "\n",
    "\n",
    "# Rejection sampler\n",
    "function rejection_sampler(n, K, A, b, sampler)\n",
    "    X = sampler(n, K)\n",
    "    satisfies = (x) -> all(A * x .<= b)\n",
    "\n",
    "    while true\n",
    "        # Get the design points in X that satisfy the constraints\n",
    "        good_points = vec(mapslices(satisfies, X; dims=2))\n",
    "        num_bad_points = sum(.!good_points)\n",
    "\n",
    "        # If there are no bad points, return the good points\n",
    "        if num_bad_points == 0\n",
    "            return X\n",
    "        end\n",
    "\n",
    "        # Resample bad points\n",
    "        X[.!good_points, :] .= sampler(num_bad_points, K)\n",
    "    end\n",
    "end\n",
    "\n",
    "function get_simplex_constraints(n)\n",
    "    # Non-negativity constraints\n",
    "    A = [\n",
    "        -1 * I(n);\n",
    "        ones(1, n)\n",
    "    ]\n",
    "    b = zeros(n + 1)\n",
    "\n",
    "    # Sum to one constraint\n",
    "    b[end] = 1\n",
    "    return A, b\n",
    "end\n",
    "\n",
    "# Given a set of linear constraints, return a dirichlet distribution for the smallest bounding simplex containing the feasible region\n",
    "# function get_min_bounding_simplex(A, b)\n",
    "#     p = polyhedron(vrep(A, b), CDDLib.Library())\n",
    "\n"
   ]
  },
  {
   "cell_type": "code",
   "execution_count": 9,
   "metadata": {},
   "outputs": [
    {
     "data": {
      "text/plain": [
       "4-element Vector{Float64}:\n",
       " -0.1\n",
       "  0.6\n",
       "  3.9\n",
       " -3.0"
      ]
     },
     "metadata": {},
     "output_type": "display_data"
    }
   ],
   "source": [
    "A = [\n",
    "    0 -1 0;\n",
    "    0 0 1;\n",
    "    5 4 0;\n",
    "    -20 5 0;\n",
    "]\n",
    "\n",
    "b = [\n",
    "    -1/10;\n",
    "    3/5;\n",
    "    39/10;\n",
    "    -3;\n",
    "]"
   ]
  },
  {
   "cell_type": "code",
   "execution_count": 11,
   "metadata": {},
   "outputs": [
    {
     "data": {
      "text/plain": [
       "8-element Vector{Float64}:\n",
       " -0.1\n",
       "  0.6\n",
       "  3.9\n",
       " -3.0\n",
       "  0.0\n",
       "  0.0\n",
       "  0.0\n",
       "  1.0"
      ]
     },
     "metadata": {},
     "output_type": "display_data"
    }
   ],
   "source": [
    "A_simplex, b_simplex = get_simplex_constraints(size(A, 2))\n",
    "A = vcat(A, A_simplex)\n",
    "b = vcat(b, b_simplex)"
   ]
  },
  {
   "cell_type": "code",
   "execution_count": 13,
   "metadata": {},
   "outputs": [
    {
     "data": {
      "text/plain": [
       "Polyhedron CDDLib.Polyhedron{Float64}:\n",
       "8-element iterator of HalfSpace{Float64, Vector{Float64}}:\n",
       " HalfSpace([0.0, -1.0, 0.0], -0.1)\n",
       " HalfSpace([0.0, 0.0, 1.0], 0.6)\n",
       " HalfSpace([5.0, 4.0, 0.0], 3.9)\n",
       " HalfSpace([-20.0, 5.0, 0.0], -3.0)\n",
       " HalfSpace([-1.0, 0.0, 0.0], 0.0)\n",
       " HalfSpace([0.0, -1.0, 0.0], 0.0)\n",
       " HalfSpace([0.0, 0.0, -1.0], 0.0)\n",
       " HalfSpace([1.0, 1.0, 1.0], 1.0)"
      ]
     },
     "metadata": {},
     "output_type": "display_data"
    }
   ],
   "source": [
    "p = polyhedron(hrep(A, b), CDDLib.Library())"
   ]
  },
  {
   "cell_type": "code",
   "execution_count": 50,
   "metadata": {},
   "outputs": [
    {
     "data": {
      "text/plain": [
       "8-element Vector{Float64}:\n",
       " 0.40701850387912347\n",
       " 0.34736733078975635\n",
       " 0.373800163857642\n",
       " 0.36875\n",
       " 0.4510837643941533\n",
       " 0.45384640849080216\n",
       " 0.3754684573968898\n",
       " 0.4012188461426008"
      ]
     },
     "metadata": {},
     "output_type": "display_data"
    }
   ],
   "source": [
    "verts = collect(points(vrep(p)))\n",
    "centroid = mean(verts, dims=1)[1]\n",
    "\n",
    "# Compute vector between centroid and simplex centroid\n",
    "simplex_centroid = ones(size(A, 2)) / size(A, 2)\n",
    "translation_vector = centroid - simplex_centroid\n",
    "\n",
    "# Find the vertex having the maximum distance from the centroid\n",
    "dists = [norm(centroid - v) for v in verts]\n",
    "max_dist = max(dists)\n",
    "\n",
    "# Scale the simplex to have the maximum distance from the centroid\n"
   ]
  }
 ],
 "metadata": {
  "kernelspec": {
   "display_name": "Julia 1.9.3",
   "language": "julia",
   "name": "julia-1.9"
  },
  "language_info": {
   "file_extension": ".jl",
   "mimetype": "application/julia",
   "name": "julia",
   "version": "1.9.3"
  }
 },
 "nbformat": 4,
 "nbformat_minor": 2
}
