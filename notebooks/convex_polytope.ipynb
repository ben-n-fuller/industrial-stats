{
 "cells": [
  {
   "cell_type": "markdown",
   "metadata": {},
   "source": [
    "## Packages"
   ]
  },
  {
   "cell_type": "code",
   "execution_count": 1,
   "metadata": {},
   "outputs": [],
   "source": [
    "using Polyhedra\n",
    "using CDDLib"
   ]
  },
  {
   "cell_type": "markdown",
   "metadata": {},
   "source": [
    "## 2-Simplex"
   ]
  },
  {
   "cell_type": "code",
   "execution_count": 12,
   "metadata": {},
   "outputs": [
    {
     "data": {
      "text/plain": [
       "V-representation CDDGeneratorMatrix{Float64, Float64}:\n",
       "3-element iterator of Vector{Float64}:\n",
       " [0.0, 0.0, 1.0]\n",
       " [0.0, 1.0, 0.0]\n",
       " [1.0, 0.0, 0.0]"
      ]
     },
     "metadata": {},
     "output_type": "display_data"
    }
   ],
   "source": [
    "constraints = HalfSpace([-1.0, 0.0, 0], 0.0) ∩ HalfSpace([0.0, -1.0, 0], 0.0) ∩ HalfSpace([0.0, 0, -1], 0.0) ∩ HyperPlane([1.0, 1.0, 1], 1.0)\n",
    "p = polyhedron(constraints, CDDLib.Library())\n",
    "verts = vrep(p)"
   ]
  },
  {
   "cell_type": "markdown",
   "metadata": {},
   "source": [
    "## Cube"
   ]
  },
  {
   "cell_type": "code",
   "execution_count": 13,
   "metadata": {},
   "outputs": [
    {
     "data": {
      "text/plain": [
       "V-representation CDDGeneratorMatrix{Float64, Float64}:\n",
       "8-element iterator of Vector{Float64}:\n",
       " [1.0, -1.0, -1.0]\n",
       " [1.0, -1.0, 1.0]\n",
       " [1.0, 1.0, 1.0]\n",
       " [1.0, 1.0, -1.0]\n",
       " [-1.0, 1.0, 1.0]\n",
       " [-1.0, 1.0, -1.0]\n",
       " [-1.0, -1.0, 1.0]\n",
       " [-1.0, -1.0, -1.0]"
      ]
     },
     "metadata": {},
     "output_type": "display_data"
    }
   ],
   "source": [
    "constraints = HalfSpace([-1, 0, 0], 1) ∩ HalfSpace([1, 0, 0], 1) ∩ HalfSpace([0, -1, 0], 1) ∩ HalfSpace([0, 1, 0], 1) ∩ HalfSpace([0, 0, -1], 1) ∩ HalfSpace([0, 0, 1], 1)\n",
    "p = polyhedron(constraints, CDDLib.Library())\n",
    "verts = vrep(p)"
   ]
  },
  {
   "cell_type": "code",
   "execution_count": 5,
   "metadata": {},
   "outputs": [
    {
     "data": {
      "text/plain": [
       "V-representation CDDGeneratorMatrix{Float64, Float64}:\n",
       "16-element iterator of Vector{Float64}:\n",
       " [1.0, -1.0, -1.0, -1.0]\n",
       " [1.0, -1.0, -1.0, 1.0]\n",
       " [1.0, -1.0, 1.0, -1.0]\n",
       " [1.0, -1.0, 1.0, 1.0]\n",
       " [1.0, 1.0, 1.0, -1.0]\n",
       " [1.0, 1.0, 1.0, 1.0]\n",
       " [1.0, 1.0, -1.0, 1.0]\n",
       " [1.0, 1.0, -1.0, -1.0]\n",
       " [-1.0, 1.0, 1.0, 1.0]\n",
       " [-1.0, 1.0, 1.0, -1.0]\n",
       " [-1.0, 1.0, -1.0, 1.0]\n",
       " [-1.0, 1.0, -1.0, -1.0]\n",
       " [-1.0, -1.0, 1.0, 1.0]\n",
       " [-1.0, -1.0, 1.0, -1.0]\n",
       " [-1.0, -1.0, -1.0, 1.0]\n",
       " [-1.0, -1.0, -1.0, -1.0]"
      ]
     },
     "metadata": {},
     "output_type": "display_data"
    }
   ],
   "source": [
    "A = [-1 0 0 0; 1 0 0 0; 0 -1 0 0; 0 1 0 0; 0 0 -1 0; 0 0 1 0; 0 0 0 -1; 0 0 0 1]\n",
    "b = [1; 1; 1; 1; 1; 1; 1; 1]\n",
    "p = polyhedron(hrep(A, b), CDDLib.Library())\n",
    "verts = vrep(p)"
   ]
  },
  {
   "cell_type": "markdown",
   "metadata": {},
   "source": [
    "## Constrained Simplex\n",
    "Suppose $x_1\\leq x_2$."
   ]
  },
  {
   "cell_type": "code",
   "execution_count": 12,
   "metadata": {},
   "outputs": [
    {
     "data": {
      "text/plain": [
       "V-representation CDDGeneratorMatrix{Float64, Float64}:\n",
       "3-element iterator of Vector{Float64}:\n",
       " [0.5, 0.5, 0.0]\n",
       " [0.0, 1.0, 0.0]\n",
       " [0.0, 0.0, 1.0]"
      ]
     },
     "metadata": {},
     "output_type": "display_data"
    }
   ],
   "source": [
    "constraints = HalfSpace([1.0, -1.0, 0], 0.0) ∩ HalfSpace([-1.0, 0.0, 0], 0.0) ∩ HalfSpace([0.0, -1.0, 0], 0.0) ∩ HalfSpace([0.0, 0, -1], 0.0) ∩ HyperPlane([1.0, 1.0, 1], 1.0)\n",
    "p = polyhedron(constraints, CDDLib.Library())\n",
    "verts = vrep(p)"
   ]
  },
  {
   "cell_type": "code",
   "execution_count": 10,
   "metadata": {},
   "outputs": [
    {
     "data": {
      "text/plain": [
       "V-representation CDDGeneratorMatrix{Float64, Float64}:\n",
       "3-element iterator of Vector{Float64}:\n",
       " [0.5, 0.5, 0.0]\n",
       " [0.0, 1.0, 0.0]\n",
       " [0.0, 0.0, 1.0]"
      ]
     },
     "metadata": {},
     "output_type": "display_data"
    }
   ],
   "source": [
    "A = [1 -1 0; -1 0 0; 0 -1 0; 0 0 -1; 1 1 1]\n",
    "b = [0; 0; 0; 0; 1]\n",
    "affine_constraint = BitSet([5])\n",
    "p = polyhedron(hrep(A, b, affine_constraint), CDDLib.Library())\n",
    "verts = vrep(p)"
   ]
  },
  {
   "cell_type": "code",
   "execution_count": 18,
   "metadata": {},
   "outputs": [
    {
     "data": {
      "text/plain": [
       "3-element Vector{Vector{Float64}}:\n",
       " [0.5, 0.5, 0.0]\n",
       " [0.0, 1.0, 0.0]\n",
       " [0.0, 0.0, 1.0]"
      ]
     },
     "metadata": {},
     "output_type": "display_data"
    }
   ],
   "source": [
    "vertices = collect(points(verts))"
   ]
  },
  {
   "cell_type": "code",
   "execution_count": 25,
   "metadata": {},
   "outputs": [
    {
     "data": {
      "text/plain": [
       "3-element Vector{Int64}:\n",
       " 1\n",
       " 2\n",
       " 3"
      ]
     },
     "metadata": {},
     "output_type": "display_data"
    }
   ],
   "source": [
    "max_indices = argmax(vertices, dims=2)"
   ]
  },
  {
   "cell_type": "code",
   "execution_count": 31,
   "metadata": {},
   "outputs": [
    {
     "data": {
      "text/plain": [
       "3-element Vector{Float64}:\n",
       " 0.0\n",
       " 1.0\n",
       " 0.0"
      ]
     },
     "metadata": {},
     "output_type": "display_data"
    }
   ],
   "source": [
    "vertices[max_indices[2], :][1]"
   ]
  },
  {
   "cell_type": "code",
   "execution_count": 35,
   "metadata": {},
   "outputs": [
    {
     "data": {
      "text/plain": [
       "V-representation CDDGeneratorMatrix{Float64, Float64}:\n",
       "8-element iterator of Vector{Float64}:\n",
       " [1.0, -1.0, -1.0]\n",
       " [1.0, -1.0, 1.0]\n",
       " [1.0, 1.0, 1.0]\n",
       " [1.0, 1.0, -1.0]\n",
       " [-1.0, 1.0, 1.0]\n",
       " [-1.0, 1.0, -1.0]\n",
       " [-1.0, -1.0, 1.0]\n",
       " [-1.0, -1.0, -1.0]"
      ]
     },
     "metadata": {},
     "output_type": "display_data"
    }
   ],
   "source": [
    "A = [-1 0 0; 1 0 0; 0 -1 0; 0 1 0; 0 0 -1; 0 0 1]\n",
    "b = [1, 1, 1, 1, 1, 1]\n",
    "p = polyhedron(hrep(A, b), CDDLib.Library())\n",
    "verts = vrep(p)"
   ]
  },
  {
   "cell_type": "code",
   "execution_count": 37,
   "metadata": {},
   "outputs": [
    {
     "data": {
      "text/plain": [
       "6-element Vector{Int64}:\n",
       " 1\n",
       " 2\n",
       " 3\n",
       " 1\n",
       " 2\n",
       " 3"
      ]
     },
     "metadata": {},
     "output_type": "display_data"
    }
   ],
   "source": [
    "vcat(max_indices, max_indices)"
   ]
  }
 ],
 "metadata": {
  "kernelspec": {
   "display_name": "Julia 1.10.0",
   "language": "julia",
   "name": "julia-1.10"
  },
  "language_info": {
   "file_extension": ".jl",
   "mimetype": "application/julia",
   "name": "julia",
   "version": "1.10.0"
  }
 },
 "nbformat": 4,
 "nbformat_minor": 2
}
