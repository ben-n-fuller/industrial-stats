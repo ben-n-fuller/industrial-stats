{
 "cells": [
  {
   "cell_type": "markdown",
   "metadata": {},
   "source": [
    "## Overview\n",
    "My goal is to reproduce the results from the Coetzer and Haines paper for constrained optimization using the coordinate exchange. To do this I will need to compute the region moments matrix and volume of the feasible region with respect to the model. I will also need to compute the verties of the polytope defined by the constraints. Finally, I will need to modify my CEXCH implementation to account for the constrained region. In order to do this, I need to add a function for fetching the candidate directions. For the unconstrained simplex, this should return the Cox direction. For the constrained simplex, the choice is not so obvious. One approach is to just continue using the Cox direction, but compute where the line intersects a constraint, and use that as the vertex. Another option would be to compute the gradient of the function with respect to the current design point.  "
   ]
  },
  {
   "cell_type": "markdown",
   "metadata": {},
   "source": [
    "## Packages"
   ]
  },
  {
   "cell_type": "code",
   "execution_count": 2,
   "metadata": {},
   "outputs": [],
   "source": [
    "using Combinatorics\n",
    "using LinearAlgebra\n",
    "using IterTools\n",
    "using IterTools: product\n",
    "\n",
    "include(\"../model_builder/model_builder.jl\")\n",
    "using .ModelBuilder\n",
    "\n",
    "include(\"../model_builder/design_initializer.jl\")\n",
    "using .DesignInitializer\n",
    "\n",
    "include(\"../optimization/optimality_criterion.jl\")\n",
    "using .OptimalityCriterion\n",
    "\n",
    "include(\"../utility/tensor_ops.jl\")\n",
    "import .TensorOps: squeeze\n",
    "\n",
    "using HDF5 \n",
    "using Optim\n",
    "using ForwardDiff\n",
    "\n",
    "using Polyhedra\n",
    "using CDDLib\n",
    "using Statistics\n",
    "using Distributions"
   ]
  },
  {
   "cell_type": "markdown",
   "metadata": {},
   "source": [
    "## Modified CEXCH"
   ]
  },
  {
   "cell_type": "code",
   "execution_count": 3,
   "metadata": {},
   "outputs": [
    {
     "data": {
      "text/plain": [
       "jl_opt (generic function with 1 method)"
      ]
     },
     "metadata": {},
     "output_type": "display_data"
    }
   ],
   "source": [
    "function optimize_point(X, row, d, obj_crit)\n",
    "    og_row = copy(X[row, :])\n",
    "    function univariate_obj(x)\n",
    "        X[row, :] .= og_row .+ x * d\n",
    "        score = obj_crit(X)\n",
    "        X[row, :] .= og_row\n",
    "        return score\n",
    "    end\n",
    "    return univariate_obj\n",
    "end\n",
    "\n",
    "function jl_opt(X, row, d, obj_crit)\n",
    "    univariate_obj = optimize_point(X, row, d, obj_crit)\n",
    "    result = Optim.optimize(univariate_obj, 0, 1.0)\n",
    "    optim_point = X[row, :] .+ Optim.minimizer(result) * d\n",
    "    return optim_point, Optim.minimum(result)\n",
    "end"
   ]
  },
  {
   "cell_type": "code",
   "execution_count": 4,
   "metadata": {},
   "outputs": [
    {
     "data": {
      "text/plain": [
       "constraint_vertex_getter (generic function with 1 method)"
      ]
     },
     "metadata": {},
     "output_type": "display_data"
    }
   ],
   "source": [
    "function get_simplex_vertices(X, row, col, obj_crit)\n",
    "    verts = I(size(X, 2))\n",
    "    return [verts[:, col]]\n",
    "end\n",
    "\n",
    "function get_constraint_vertices(A, b; affines=BitSet([]))\n",
    "    p = polyhedron(hrep(A, b, affines), CDDLib.Library())\n",
    "    verts = vrep(p)\n",
    "    return collect(points(verts))\n",
    "end\n",
    "\n",
    "function constraint_vertex_getter(A, b; affines=BitSet([]))\n",
    "    verts = get_constraint_vertices(A, b, affines)\n",
    "    function get_vertices(X, row, col, obj_crit)\n",
    "        # Find the vertex with the maximum value in the ith position corresponding with the current col\n",
    "        vert_sim = vert -> dot(vert, X[row, :])\n",
    "        max_vert_index = argmax(map(vert_sim, verts))\n",
    "        return [verts[max_vert_index]]\n",
    "    end\n",
    "    \n",
    "    return get_vertices\n",
    "end"
   ]
  },
  {
   "cell_type": "code",
   "execution_count": 22,
   "metadata": {},
   "outputs": [
    {
     "data": {
      "text/plain": [
       "cexch_constrained! (generic function with 1 method)"
      ]
     },
     "metadata": {},
     "output_type": "display_data"
    }
   ],
   "source": [
    "function cexch_optimize(\n",
    "    X::Matrix{Float64}, \n",
    "    obj_crit, \n",
    "    get_cand_verts, \n",
    "    optimize_design_point; \n",
    "    max_iters=1000)\n",
    "\n",
    "    N, K = size(X)\n",
    "    # Initialize objective value\n",
    "    best_score = obj_crit(X)\n",
    "\n",
    "    # Iterate until no improvement is made\n",
    "    for iter in 1:max_iters\n",
    "        improvement = false\n",
    "\n",
    "        for coord in CartesianIndices(X)\n",
    "            row, col = coord[1], coord[2]\n",
    "\n",
    "            # Get candidate vertices\n",
    "            vs = get_cand_verts(X, row, col, obj_crit)\n",
    "\n",
    "            best_vert_score = Inf\n",
    "            score_opt = Inf\n",
    "            best_vert = zeros(K)\n",
    "\n",
    "            # Iterate over candidate vertices\n",
    "            for v in vs\n",
    "                # Get the direction vector\n",
    "                d = v - X[row, :]\n",
    "                \n",
    "                # Generate candidate design point optimizing along direction\n",
    "                (opt_design_point, score_opt) = optimize_design_point(X, row, d, obj_crit)\n",
    "\n",
    "                # Update the best vertex if improvement is found\n",
    "                if score_opt < best_vert_score\n",
    "                    best_vert_score = score_opt\n",
    "                    best_vert = opt_design_point\n",
    "                end\n",
    "            end\n",
    "\n",
    "            # Update the design matrix and objective value if improvement is found\n",
    "            if score_opt < best_score\n",
    "                best_score = score_opt\n",
    "                X[row, :] .= best_vert\n",
    "                improvement = true\n",
    "            end\n",
    "        end\n",
    "\n",
    "        if !improvement\n",
    "            break\n",
    "        end\n",
    "    end\n",
    "\n",
    "    return X\n",
    "end"
   ]
  },
  {
   "cell_type": "markdown",
   "metadata": {},
   "source": [
    "## Testing"
   ]
  },
  {
   "cell_type": "code",
   "execution_count": 5,
   "metadata": {},
   "outputs": [
    {
     "data": {
      "text/plain": [
       "4-element Vector{Float64}:\n",
       " -0.1\n",
       "  0.6\n",
       "  3.9\n",
       " -3.0"
      ]
     },
     "metadata": {},
     "output_type": "display_data"
    }
   ],
   "source": [
    "N, K = 12, 3\n",
    "model_builder = ModelBuilder.full_cubic\n",
    "obj_crit = OptimalityCriterion.d_criterion ∘ model_builder\n",
    "\n",
    "A = [\n",
    "    0 -1 0;\n",
    "    0 0 1;\n",
    "    5 4 0;\n",
    "    -20 5 0;\n",
    "]\n",
    "\n",
    "b = [\n",
    "    -1/10;\n",
    "    3/5;\n",
    "    39/10;\n",
    "    -3;\n",
    "]"
   ]
  },
  {
   "cell_type": "code",
   "execution_count": null,
   "metadata": {},
   "outputs": [],
   "source": [
    "init = DesignInitializer.initializer(N, K, model_builder, type=\"mixture\")\n",
    "designs = init(10_000)\n",
    "\n",
    "verts = get_constraint_vertices(A, b, BitSet([4]))\n",
    "m_vert = mean(verts, dims=1)[1]\n",
    "design = repeat(m_vert', 12)\n",
    "vert_getter = (X, row, col, obj_crit) -> verts\n",
    "opt_design = cexch_optimize(design, obj_crit, vert_getter, jl_opt)"
   ]
  },
  {
   "cell_type": "markdown",
   "metadata": {},
   "source": [
    "## Sanity Check"
   ]
  },
  {
   "cell_type": "code",
   "execution_count": null,
   "metadata": {},
   "outputs": [],
   "source": [
    "model_builder = ModelBuilder.scheffe(2)\n",
    "init = DesignInitializer.initializer(6, 3, model_builder, type=\"mixture\")\n",
    "obj_crit = OptimalityCriterion.d_criterion_2 ∘ model_builder\n",
    "designs = init(10)"
   ]
  },
  {
   "cell_type": "code",
   "execution_count": null,
   "metadata": {},
   "outputs": [],
   "source": [
    "opt_design = cexch_optimize(designs[1, :, :], obj_crit, get_simplex_vertices, jl_opt)"
   ]
  },
  {
   "cell_type": "code",
   "execution_count": null,
   "metadata": {},
   "outputs": [],
   "source": [
    "m = model_builder(opt_design)\n",
    "OptimalityCriterion.d_criterion_2(m)"
   ]
  }
 ],
 "metadata": {
  "kernelspec": {
   "display_name": "Julia 1.9.3",
   "language": "julia",
   "name": "julia-1.9"
  },
  "language_info": {
   "file_extension": ".jl",
   "mimetype": "application/julia",
   "name": "julia",
   "version": "1.9.3"
  }
 },
 "nbformat": 4,
 "nbformat_minor": 2
}
