{
 "cells": [
  {
   "cell_type": "markdown",
   "metadata": {},
   "source": [
    "## Imports"
   ]
  },
  {
   "cell_type": "code",
   "execution_count": 4,
   "metadata": {},
   "outputs": [
    {
     "name": "stderr",
     "output_type": "stream",
     "text": [
      "WARNING: replacing module ModelBuilder.\n",
      "WARNING: replacing module DesignInitializer.\n"
     ]
    }
   ],
   "source": [
    "# Custom module for building model matrices\n",
    "include(\"model_builder.jl\")\n",
    "using .ModelBuilder\n",
    "\n",
    "include(\"design_initializer.jl\")\n",
    "using .DesignInitializer\n",
    "\n",
    "using LinearAlgebra"
   ]
  },
  {
   "cell_type": "code",
   "execution_count": 16,
   "metadata": {},
   "outputs": [
    {
     "data": {
      "text/plain": [
       "2-element Vector{Float64}:\n",
       " 1.0\n",
       " 0.11537119699121912"
      ]
     },
     "metadata": {},
     "output_type": "display_data"
    }
   ],
   "source": [
    "model_builder = ModelBuilder.create()\n",
    "model_builder(rand(2))"
   ]
  },
  {
   "cell_type": "markdown",
   "metadata": {},
   "source": [
    "## Initialization"
   ]
  },
  {
   "cell_type": "code",
   "execution_count": 17,
   "metadata": {},
   "outputs": [
    {
     "data": {
      "text/plain": [
       "init_mixture_design (generic function with 1 method)"
      ]
     },
     "metadata": {},
     "output_type": "display_data"
    }
   ],
   "source": [
    "# Fill an nxNxK matrix with values sampled from a uniform dist on [lower, upper]\n",
    "function init_design(N, K; n=1, lower=-1, upper=1)\n",
    "    lower .+ rand(n, N, K) .* (upper - lower)\n",
    "end\n",
    "\n",
    "# Fill an nxNxK matrix with random values ensuring each row sums to 1\n",
    "function init_mixture_design(N, K; n=1)\n",
    "    designs = rand(n, N, K)\n",
    "    designs ./= sum(designs, dims=3)\n",
    "    designs\n",
    "end"
   ]
  },
  {
   "cell_type": "code",
   "execution_count": 76,
   "metadata": {},
   "outputs": [
    {
     "data": {
      "text/plain": [
       "init_filtered_design (generic function with 1 method)"
      ]
     },
     "metadata": {},
     "output_type": "display_data"
    }
   ],
   "source": [
    "function fill_invalid!(X, model_builder, initializer)\n",
    "    n, N, K = size(X)\n",
    "\n",
    "    # Find invalid designs\n",
    "    invalid_indices = findall(ModelBuilder.squeeze(mapslices(x -> det(x'x) < eps(), model_builder(X), dims=[2,3])))\n",
    "\n",
    "    # If no invalid designs, return\n",
    "    if length(invalid_indices) == 0\n",
    "        return X\n",
    "    end\n",
    "\n",
    "    # Replace invalid designs with new ones in-place\n",
    "    X[invalid_indices, :, :] = initializer(N, K, n = length(invalid_indices))\n",
    "\n",
    "    # Recursively fill invalid designs\n",
    "    return fill_invalid!(X, model_builder, initializer)\n",
    "end\n",
    "\n",
    "function init_filtered_design(N, K, model_builder; n = 1, initializer = init_design)\n",
    "    # Initialize designs\n",
    "    designs = initializer(N, K, n = n)\n",
    "\n",
    "    # Filter out invalid designs\n",
    "    fill_invalid!(designs, model_builder, initializer)\n",
    "    return designs\n",
    "end"
   ]
  },
  {
   "cell_type": "code",
   "execution_count": 77,
   "metadata": {},
   "outputs": [
    {
     "data": {
      "text/plain": [
       "2×3×2 Array{Float64, 3}:\n",
       "[:, :, 1] =\n",
       " 0.54212   0.839057  0.241001\n",
       " 0.793928  0.252795  0.92137\n",
       "\n",
       "[:, :, 2] =\n",
       " 0.45788   0.160943  0.758999\n",
       " 0.206072  0.747205  0.0786297"
      ]
     },
     "metadata": {},
     "output_type": "display_data"
    }
   ],
   "source": [
    "model_builder = ModelBuilder.create()\n",
    "init_filtered_design(3, 2, model_builder, n=2, initializer=init_mixture_design)"
   ]
  }
 ],
 "metadata": {
  "kernelspec": {
   "display_name": "Julia 1.9.3",
   "language": "julia",
   "name": "julia-1.9"
  },
  "language_info": {
   "file_extension": ".jl",
   "mimetype": "application/julia",
   "name": "julia",
   "version": "1.9.3"
  }
 },
 "nbformat": 4,
 "nbformat_minor": 2
}
