{
 "cells": [
  {
   "cell_type": "markdown",
   "metadata": {},
   "source": [
    "## Summary\n",
    "The purpose of this notebook is to reproduce the D- and I-optimal designs for mixture experiments using the settings found in *Development and Applications of Particle Swarm Optimization for Constructing Optimal Experimental Designs* table 6.8. The notebook provides an implementation of an experiment runner, which can be used to distribute the optimizations of many design scenarios with various settings across multiple processes and threads in a flexible and reusable manner."
   ]
  },
  {
   "cell_type": "markdown",
   "metadata": {},
   "source": [
    "## Distributed Environment"
   ]
  },
  {
   "cell_type": "code",
   "execution_count": 1,
   "metadata": {},
   "outputs": [
    {
     "data": {
      "text/plain": [
       "10-element Vector{Int64}:\n",
       "  2\n",
       "  3\n",
       "  4\n",
       "  5\n",
       "  6\n",
       "  7\n",
       "  8\n",
       "  9\n",
       " 10\n",
       " 11"
      ]
     },
     "metadata": {},
     "output_type": "display_data"
    }
   ],
   "source": []
  },
  {
   "cell_type": "markdown",
   "metadata": {},
   "source": [
    "## Imports"
   ]
  },
  {
   "cell_type": "code",
   "execution_count": 2,
   "metadata": {},
   "outputs": [],
   "source": [
    "using HDF5\n",
    "using Dates\n",
    "using Logging\n",
    "using IterTools"
   ]
  },
  {
   "cell_type": "code",
   "execution_count": 7,
   "metadata": {},
   "outputs": [
    {
     "name": "stdout",
     "output_type": "stream",
     "text": [
      "      From worker 8:\tWARNING: replacing module ModelBuilder.\n",
      "      From worker 10:\tWARNING: replacing module ModelBuilder.\n",
      "      From worker 7:\tWARNING: replacing module ModelBuilder.\n",
      "      From worker 3:\tWARNING: replacing module ModelBuilder.\n",
      "      From worker 5:\tWARNING: replacing module ModelBuilder.\n",
      "      From worker 9:\tWARNING: replacing module ModelBuilder.\n",
      "      From worker 2:\tWARNING: replacing module ModelBuilder.\n",
      "      From worker 6:\tWARNING: replacing module ModelBuilder.\n",
      "      From worker 11:\tWARNING: replacing module ModelBuilder.\n",
      "      From worker 4:\tWARNING: replacing module ModelBuilder.\n"
     ]
    },
    {
     "name": "stderr",
     "output_type": "stream",
     "text": [
      "WARNING: replacing module ModelBuilder.\n"
     ]
    },
    {
     "name": "stdout",
     "output_type": "stream",
     "text": [
      "      From worker 2:\tWARNING: replacing module DesignInitializer.\n",
      "      From worker 4:\tWARNING: replacing module DesignInitializer.\n",
      "      From worker 6:\tWARNING: replacing module DesignInitializer.\n",
      "      From worker 8:\tWARNING: replacing module DesignInitializer.\n",
      "      From worker 10:\tWARNING: replacing module DesignInitializer.\n",
      "      From worker 5:\tWARNING: replacing module DesignInitializer.\n",
      "      From worker 11:\tWARNING: replacing module DesignInitializer.\n",
      "      From worker 3:\tWARNING: replacing module DesignInitializer.\n",
      "      From worker 7:\tWARNING: replacing module DesignInitializer.\n",
      "      From worker 9:\tWARNING: replacing module DesignInitializer.\n",
      "      From worker 8:\tWARNING: replacing module DesignOptimizer.\n",
      "      From worker 10:\tWARNING: replacing module DesignOptimizer.\n",
      "      From worker 2:\tWARNING: replacing module DesignOptimizer.\n",
      "      From worker 4:\tWARNING: replacing module DesignOptimizer.\n",
      "      From worker 9:\tWARNING: replacing module DesignOptimizer.\n",
      "      From worker 7:\tWARNING: replacing module DesignOptimizer.\n",
      "      From worker 5:\tWARNING: replacing module DesignOptimizer.\n",
      "      From worker 3:\tWARNING: replacing module DesignOptimizer.\n",
      "      From worker 11:\tWARNING: replacing module DesignOptimizer.\n"
     ]
    },
    {
     "name": "stderr",
     "output_type": "stream",
     "text": [
      "WARNING: replacing module DesignInitializer.\n",
      "WARNING: replacing module DesignOptimizer.\n"
     ]
    },
    {
     "name": "stdout",
     "output_type": "stream",
     "text": [
      "      From worker 6:\tWARNING: replacing module DesignOptimizer.\n",
      "      From worker 8:\tWARNING: replacing module OptimalityCriteria.\n",
      "      From worker 3:\tWARNING: replacing module OptimalityCriteria.\n",
      "      From worker 10:\tWARNING: replacing module OptimalityCriteria.\n",
      "      From worker 5:\tWARNING: replacing module OptimalityCriteria.\n",
      "      From worker 9:\tWARNING: replacing module OptimalityCriteria.\n",
      "      From worker 2:\tWARNING: replacing module OptimalityCriteria.\n",
      "      From worker 11:\tWARNING: replacing module OptimalityCriteria.\n",
      "      From worker 7:\tWARNING: replacing module OptimalityCriteria.\n",
      "      From worker 4:\tWARNING: replacing module OptimalityCriteria.\n",
      "      From worker 6:\tWARNING: replacing module OptimalityCriteria.\n"
     ]
    },
    {
     "name": "stderr",
     "output_type": "stream",
     "text": [
      "WARNING: replacing module OptimalityCriteria.\n"
     ]
    }
   ],
   "source": [
    "@everywhere include(\"model_builder/model_builder.jl\")\n",
    "@everywhere using .ModelBuilder\n",
    "\n",
    "@everywhere include(\"model_builder/design_initializer.jl\")\n",
    "@everywhere using .DesignInitializer\n",
    "\n",
    "@everywhere include(\"optimization/design_optimizer.jl\")\n",
    "@everywhere using .DesignOptimizer\n",
    "\n",
    "@everywhere include(\"optimization/optimality_criteria.jl\")\n",
    "@everywhere using .OptimalityCriteria\n",
    "\n",
    "@everywhere using LinearAlgebra\n",
    "@everywhere using Optim\n",
    "@everywhere using ForwardDiff\n",
    "@everywhere using Optimization, OptimizationNLopt"
   ]
  },
  {
   "cell_type": "markdown",
   "metadata": {},
   "source": [
    "## Table of Design Scenarios\n",
    "| Criterion   | Model           | K  | N  | Ground Truth                  |\n",
    "|-------------|-----------------|----|----|-------------------------------|\n",
    "| D-criterion | first-order     | 3  | 3  | {3, 1}                        | \n",
    "| D-criterion | second-order    | 3  | 6  | {3, 2}                        | \n",
    "| D-criterion | first-order     | 4  | 4  | {4, 1}                        | \n",
    "| D-criterion | second-order    | 4  | 10 | {4, 2}                        | \n",
    "| D-criterion | special cubic   | 3  | 7  | {3, 3}-SCD                    | \n",
    "| D-criterion | special cubic   | 4  | 14 | {4, 3}-SCD                    | \n",
    "| D-criterion | full cubic      | 3  | 10 | augmented {4, 3}-SCD          | \n",
    "| D-criterion | full cubic      | 4  | 20 | augmented {4, 4}-SCD          | \n",
    "| IV-criterion| second-order    | 3  | 6  | Goos et al. (2016)            | \n",
    "| IV-criterion| second-order    | 3  | 7  | Goos et al. (2016)            | \n",
    "| IV-criterion| second-order    | 3  | 8  | Goos et al. (2016)            | \n",
    "| IV-criterion| second-order    | 3  | 30 | Goos et al. (2016)            | \n",
    "| IV-criterion| second-order    | 4  | 15 | Goos et al. (2016)            | \n",
    "| IV-criterion| special-cubic   | 4  | 16 | Goos et al. (2016)            | \n",
    "| IV-criterion| special-cubic   | 4  | 17 | Goos et al. (2016)            |\n"
   ]
  },
  {
   "cell_type": "markdown",
   "metadata": {},
   "source": [
    "## CEXCH Implementation"
   ]
  },
  {
   "cell_type": "code",
   "execution_count": 58,
   "metadata": {},
   "outputs": [],
   "source": [
    "@everywhere begin\n",
    "    function basic_score_comparator(a, b)\n",
    "        a < b\n",
    "    end\n",
    "    \n",
    "    function create_univariate_objective(X, row, d, obj_crit)\n",
    "        og_row = copy(X[row, :])\n",
    "        function univariate_obj(x)\n",
    "            X[row, :] .= og_row .+ x * d\n",
    "            score = obj_crit(X)\n",
    "            X[row, :] .= og_row\n",
    "            return score\n",
    "        end\n",
    "        return univariate_obj\n",
    "    end\n",
    "    \n",
    "    function bounded_univariate_optimizer(X, row, d, obj_crit)\n",
    "        univariate_obj = create_univariate_objective(X, row, d, obj_crit)\n",
    "        result = Optim.optimize(univariate_obj, 0, 1.0)\n",
    "        optim_point = X[row, :] .+ Optim.minimizer(result) * d\n",
    "        return optim_point, Optim.minimum(result)\n",
    "    end\n",
    "\n",
    "    function bounded_univariate_gradient_optimizer(X, row, d, obj_crit; optimizer=NLopt.LD_BFGS)\n",
    "        # Make univariate optimizer\n",
    "        univariate_obj = create_univariate_objective(X, row, d, obj_crit)\n",
    "        univariate_obj_vec = (x, _) -> univariate_obj(x[1])\n",
    "\n",
    "        # Initial values and bounds\n",
    "        x0 = [0]\n",
    "        p=[0]\n",
    "        lb = [0]\n",
    "        ub = [1.0]\n",
    "\n",
    "        # Define optimization problem\n",
    "        f = OptimizationFunction(univariate_obj_vec, Optimization.AutoForwardDiff())\n",
    "        prob = OptimizationProblem(f, x0, p, ub=ub, lb=lb)\n",
    "        solution = solve(prob, optimizer())\n",
    "        optim_point = X[row, :] .+ solution.u[1] * d\n",
    "\n",
    "        # Evaluate\n",
    "        tmp = copy(X[row, :])\n",
    "        X[row, :] .= optim_point\n",
    "        score = obj_crit(X)\n",
    "        X[row, :] .= tmp\n",
    "\n",
    "        return optim_point, score\n",
    "    end\n",
    "\n",
    "    function bounded_univariate_gradient_optimizer(optimizer=NLopt.LD_BFGS)\n",
    "        return (X, row, d, obj_crit) -> bounded_univariate_gradient_optimizer(X, row, d, obj_crit; optimizer=optimizer)\n",
    "    end\n",
    "    \n",
    "    function cexch_optimize(\n",
    "            X_in::Matrix{Float64}, \n",
    "            obj_crit::Function, \n",
    "            optimizer::Function; \n",
    "            max_num_iters=1000, \n",
    "            score_comparator=basic_score_comparator\n",
    "        )\n",
    "\n",
    "        # Copy the input design matrix\n",
    "        X = copy(X_in)\n",
    "    \n",
    "        # Get N and K\n",
    "        N, K = size(X)\n",
    "    \n",
    "        # Generate simplex coordinates using identity matrix\n",
    "        # The kth column corresponds with the simplex vertex for the kth factor in an unconstrained setting\n",
    "        simplex_coords = I(K)\n",
    "    \n",
    "        # Initialize objective value\n",
    "        best_score = obj_crit(X)\n",
    "\n",
    "        # Iterate until no improvement is made\n",
    "        iter = 0\n",
    "        while iter < max_num_iters\n",
    "            improvement = false\n",
    "    \n",
    "            for coord in CartesianIndices(X)\n",
    "                row, col = coord[1], coord[2]\n",
    "    \n",
    "                # Get the current simplex vertex\n",
    "                v = simplex_coords[:, col]\n",
    "    \n",
    "                # Get the direction vector\n",
    "                d = v - X[row, :]\n",
    "    \n",
    "                # Optimize the objective function along the direction vector\n",
    "                optim_point, score_opt = optimizer(X, row, d, obj_crit)\n",
    "    \n",
    "                # Update the design matrix and objective value if improvement is found\n",
    "                if score_comparator(score_opt, best_score)\n",
    "                    best_score = score_opt\n",
    "                    X[row, :] .= optim_point\n",
    "                    improvement = true\n",
    "                end\n",
    "            end\n",
    "    \n",
    "            if !improvement\n",
    "                break\n",
    "            end\n",
    "\n",
    "            iter += 1\n",
    "        end\n",
    "    \n",
    "        return X, best_score, iter\n",
    "    end\n",
    "    \n",
    "    function cexch(\n",
    "            X::Array{Float64, 3},\n",
    "            obj_crit::Function, \n",
    "            optimizer::Function; \n",
    "            max_iters=1000, \n",
    "            score_comparator=basic_score_comparator\n",
    "        )\n",
    "        \n",
    "        # Get the number of initial design matrices\n",
    "        n, N, K = size(X) # number of initial design matrices\n",
    "\n",
    "        # Initialize arrays to store scores and number of iterations    \n",
    "        scores = Float64[]\n",
    "        num_iterations = Int[]\n",
    "        opt_designs = zeros(n, N, K)\n",
    "\n",
    "        sizeX = size(X)\n",
    "        sizeOpt = size(opt_designs)\n",
    "    \n",
    "        # Parallelize over initializations\n",
    "        for i in 1:n\n",
    "            optimized, best_score, num_iters = cexch_optimize(X[i, :, :], obj_crit, optimizer; max_num_iters=max_iters, score_comparator=score_comparator)\n",
    "            push!(scores, best_score)\n",
    "            push!(num_iterations, num_iters)\n",
    "            opt_designs[i, :, :] .= optimized\n",
    "        end\n",
    "    \n",
    "        # return scores, num_iterations    \n",
    "        return opt_designs, scores, num_iterations\n",
    "    end\n",
    "end"
   ]
  },
  {
   "cell_type": "markdown",
   "metadata": {},
   "source": [
    "## Experiment Runner\n",
    "The experiment runner will distribute the experiments across multiple processes. Each experimental design scenario will run inside a process using parallelization."
   ]
  },
  {
   "cell_type": "markdown",
   "metadata": {},
   "source": [
    "### Types"
   ]
  },
  {
   "cell_type": "code",
   "execution_count": 59,
   "metadata": {},
   "outputs": [],
   "source": [
    "@everywhere begin \n",
    "    struct DesignOptimizationScenario\n",
    "        model_builder::Function\n",
    "        K::Int\n",
    "        N::Int\n",
    "        max_iters::Int\n",
    "        num_initializations::Int\n",
    "    end\n",
    "    \n",
    "    struct DesignOptimizationJob\n",
    "        scenarios::Vector{DesignOptimizationScenario}\n",
    "        design_initializer::Function\n",
    "        optimizer::Function\n",
    "        optimality_criterion::Function\n",
    "    end\n",
    "\n",
    "    struct JobParams\n",
    "        N::Int\n",
    "        K::Int\n",
    "        model_builder::Function\n",
    "        design_initializer::Function\n",
    "        optimizer::Function\n",
    "        optimality_criterion::Function\n",
    "        max_iters::Int\n",
    "        num_initializations::Int\n",
    "    end\n",
    "    \n",
    "    struct DesignOptimizationResult\n",
    "        optimizers::Array\n",
    "        optima::Vector\n",
    "        iterations::Vector\n",
    "    end\n",
    "    \n",
    "    function create_scenario(model_builder, K, N; max_iters::Integer = 100, num_initializations::Integer = 50)\n",
    "        return DesignOptimizationScenario(model_builder, K, N, max_iters, num_initializations)\n",
    "    end\n",
    "    \n",
    "    function create_result(X, optima, iterations)\n",
    "        return DesignOptimizationResult(X, optima, iterations)\n",
    "    end\n",
    "end"
   ]
  },
  {
   "cell_type": "markdown",
   "metadata": {},
   "source": [
    "### Batch and Distribute Jobs"
   ]
  },
  {
   "cell_type": "code",
   "execution_count": 60,
   "metadata": {},
   "outputs": [],
   "source": [
    "@everywhere function optimize_designs(params::JobParams)::DesignOptimizationResult\n",
    "    @info \"Starting job for N=$(params.N), K=$(params.K), model=$(params.model_builder)\"\n",
    "\n",
    "    # Initialize designs\n",
    "    init = params.design_initializer(params.N, params.K, params.model_builder)\n",
    "    initial_designs = init(params.num_initializations)\n",
    "\n",
    "    # Create objective criterion\n",
    "    obj_crit = params.optimality_criterion ∘ params.model_builder\n",
    "\n",
    "    # Run optimization\n",
    "    X, scores, num_iterations = cexch(initial_designs, obj_crit, params.optimizer; max_iters=params.max_iters)\n",
    "\n",
    "    @info \"Starting job for N=$(params.N), K=$(params.K), model=$(params.model_builder)\"\n",
    "\n",
    "    return create_result(X, scores, num_iterations)\n",
    "end"
   ]
  },
  {
   "cell_type": "code",
   "execution_count": 3,
   "metadata": {},
   "outputs": [
    {
     "data": {
      "text/plain": [
       "(3, 4, 5)"
      ]
     },
     "execution_count": 3,
     "metadata": {},
     "output_type": "execute_result"
    }
   ],
   "source": [
    "arr = rand(3,4,5)\n",
    "size(arr)"
   ]
  },
  {
   "cell_type": "code",
   "execution_count": 5,
   "metadata": {},
   "outputs": [
    {
     "data": {
      "text/plain": [
       "3×4×5 Array{Float64, 3}:\n",
       "[:, :, 1] =\n",
       " 0.721751  0.589597  0.44613   0.638989\n",
       " 0.128607  0.447186  0.663277  0.165968\n",
       " 0.1803    0.554536  0.639503  0.404908\n",
       "\n",
       "[:, :, 2] =\n",
       " 0.26761   0.72824   0.711621  0.486031\n",
       " 0.230464  0.363134  0.228169  0.92967\n",
       " 0.279201  0.34153   0.253589  0.511162\n",
       "\n",
       "[:, :, 3] =\n",
       " 0.165116   0.661902   0.75092   0.38638\n",
       " 0.956754   0.914163   0.877312  0.44696\n",
       " 0.0838368  0.0265921  0.341125  0.050911\n",
       "\n",
       "[:, :, 4] =\n",
       " 0.386643  0.715479  0.402969  0.783423\n",
       " 0.557022  0.527692  0.495767  0.645896\n",
       " 0.865549  0.233818  0.14035   0.990834\n",
       "\n",
       "[:, :, 5] =\n",
       " 0.1489    0.650166  0.869008  0.66373\n",
       " 0.641994  0.34469   0.773553  0.236572\n",
       " 0.176202  0.934787  0.2878    0.544205"
      ]
     },
     "execution_count": 5,
     "metadata": {},
     "output_type": "execute_result"
    }
   ],
   "source": [
    "arr[1:3, :, :]"
   ]
  },
  {
   "cell_type": "code",
   "execution_count": 61,
   "metadata": {},
   "outputs": [
    {
     "data": {
      "text/plain": [
       "batch_scenarios (generic function with 1 method)"
      ]
     },
     "metadata": {},
     "output_type": "display_data"
    }
   ],
   "source": [
    "function batch_upper_indices(vector_length, batch_size)\n",
    "    indices = [min(i + batch_size - 1, vector_length) for i in 1:batch_size:vector_length]\n",
    "    return [0; indices]\n",
    "end\n",
    "\n",
    "function batch_scenarios(job::DesignOptimizationJob; batch_size::Integer = 50)::Vector{JobParams}\n",
    "    all_jobs = []\n",
    "    for scenario in job.scenarios\n",
    "        batch_indices = batch_upper_indices(scenario.num_initializations, batch_size)\n",
    "        for i in 2:size(batch_indices, 1)\n",
    "            push!(all_jobs, JobParams(\n",
    "                scenario.N,\n",
    "                scenario.K, \n",
    "                scenario.model_builder, \n",
    "                job.design_initializer, \n",
    "                job.optimizer, \n",
    "                job.optimality_criterion,\n",
    "                scenario.max_iters,\n",
    "                (batch_indices[i] - batch_indices[i - 1])\n",
    "            ))\n",
    "        end\n",
    "    end\n",
    "\n",
    "    return all_jobs\n",
    "end"
   ]
  },
  {
   "cell_type": "code",
   "execution_count": 62,
   "metadata": {},
   "outputs": [
    {
     "data": {
      "text/plain": [
       "run_optimization_job (generic function with 1 method)"
      ]
     },
     "metadata": {},
     "output_type": "display_data"
    }
   ],
   "source": [
    "function run_optimization_job(job::DesignOptimizationJob; batch_size::Integer = 50)::Vector{DesignOptimizationResult}\n",
    "    all_jobs = batch_scenarios(job, batch_size=batch_size)   \n",
    "    pmap(optimize_designs, all_jobs)\n",
    "end"
   ]
  },
  {
   "cell_type": "markdown",
   "metadata": {},
   "source": [
    "## Define Scenarios"
   ]
  },
  {
   "cell_type": "code",
   "execution_count": 63,
   "metadata": {},
   "outputs": [
    {
     "data": {
      "text/plain": [
       "DesignOptimizationJob(DesignOptimizationScenario[DesignOptimizationScenario(Main.ModelBuilder.var\"#model_builder#19\"{Int64, Int64, Bool, Vector{Any}, Bool, Bool}(1, 0, false, Any[], false, true), 3, 3, 100, 50)], var\"#144#145\"(), var\"#133#138\"{Algorithm}(NLopt.LD_LBFGS), Main.OptimalityCriteria.d_criterion)"
      ]
     },
     "metadata": {},
     "output_type": "display_data"
    }
   ],
   "source": [
    "scenarios = [\n",
    "    create_scenario(ModelBuilder.scheffe(1), 3, 3),\n",
    "    # create_scenario(ModelBuilder.scheffe(2), 3, 6),\n",
    "    # create_scenario(ModelBuilder.scheffe(1), 4, 4),\n",
    "    # create_scenario(ModelBuilder.scheffe(2), 4, 10),\n",
    "    # create_scenario(ModelBuilder.special_cubic, 3, 7),\n",
    "    # create_scenario(ModelBuilder.special_cubic, 4, 14),\n",
    "    # create_scenario(ModelBuilder.full_cubic, 3, 10),\n",
    "    # create_scenario(ModelBuilder.full_cubic, 4, 20)\n",
    "]\n",
    "\n",
    "mixture_initializer = (n, k, builder) -> DesignInitializer.initializer(n, k, builder, type=\"mixture\")\n",
    "\n",
    "optimization_job = DesignOptimizationJob(\n",
    "    scenarios,\n",
    "    mixture_initializer,\n",
    "    bounded_univariate_gradient_optimizer(NLopt.LD_LBFGS),\n",
    "    OptimalityCriteria.d_criterion\n",
    ")"
   ]
  },
  {
   "cell_type": "code",
   "execution_count": 64,
   "metadata": {},
   "outputs": [
    {
     "name": "stdout",
     "output_type": "stream",
     "text": [
      "      From worker 8:\t\u001b[36m\u001b[1m[ \u001b[22m\u001b[39m\u001b[36m\u001b[1mInfo: \u001b[22m\u001b[39mStarting job for N=3, K=3, model=model_builder\n",
      "      From worker 8:\t\u001b[33m\u001b[1m┌ \u001b[22m\u001b[39m\u001b[33m\u001b[1mWarning: \u001b[22m\u001b[39mNLopt failed to converge: FORCED_STOP\n",
      "      From worker 8:\t\u001b[33m\u001b[1m└ \u001b[22m\u001b[39m\u001b[90m@ OptimizationNLopt C:\\Users\\benja\\.julia\\packages\\OptimizationNLopt\\CgKow\\src\\OptimizationNLopt.jl:181\u001b[39m\n",
      "      From worker 8:\t\u001b[36m\u001b[1m[ \u001b[22m\u001b[39m\u001b[36m\u001b[1mInfo: \u001b[22m\u001b[39m[0.0]\n"
     ]
    },
    {
     "ename": "RemoteException",
     "evalue": "On worker 8:\nMethodError: no method matching *(::SciMLBase.OptimizationSolution{Float64, 1, Vector{Float64}, OptimizationCache{OptimizationFunction{true, AutoForwardDiff{nothing, Nothing}, Serialization.__deserialized_types__.var\"#82#87\"{Serialization.__deserialized_types__.var\"#univariate_obj#86\"{Matrix{Float64}, Int64, Vector{Float64}, ComposedFunction{typeof(Main.OptimalityCriteria.d_criterion), Main.ModelBuilder.var\"#model_builder#19\"{Int64, Int64, Bool, Vector{Any}, Bool, Bool}}, Vector{Float64}}}, OptimizationForwardDiffExt.var\"#38#56\"{ForwardDiff.GradientConfig{ForwardDiff.Tag{OptimizationForwardDiffExt.var\"#37#55\"{OptimizationFunction{true, AutoForwardDiff{nothing, Nothing}, Serialization.__deserialized_types__.var\"#82#87\"{Serialization.__deserialized_types__.var\"#univariate_obj#86\"{Matrix{Float64}, Int64, Vector{Float64}, ComposedFunction{typeof(Main.OptimalityCriteria.d_criterion), Main.ModelBuilder.var\"#model_builder#19\"{Int64, Int64, Bool, Vector{Any}, Bool, Bool}}, Vector{Float64}}}, Nothing, Nothing, Nothing, Nothing, Nothing, Nothing, Nothing, Nothing, Nothing, typeof(SciMLBase.DEFAULT_OBSERVED_NO_TIME), Nothing, Nothing, SymbolicIndexingInterface.SymbolCache{Nothing, Nothing, Nothing}, Nothing, Nothing, Nothing, Nothing, Nothing, Nothing}, Optimization.ReInitCache{Vector{Int64}, Vector{Int64}}}, Int64}, Int64, 1, Vector{ForwardDiff.Dual{ForwardDiff.Tag{OptimizationForwardDiffExt.var\"#37#55\"{OptimizationFunction{true, AutoForwardDiff{nothing, Nothing}, Serialization.__deserialized_types__.var\"#82#87\"{Serialization.__deserialized_types__.var\"#univariate_obj#86\"{Matrix{Float64}, Int64, Vector{Float64}, ComposedFunction{typeof(Main.OptimalityCriteria.d_criterion), Main.ModelBuilder.var\"#model_builder#19\"{Int64, Int64, Bool, Vector{Any}, Bool, Bool}}, Vector{Float64}}}, Nothing, Nothing, Nothing, Nothing, Nothing, Nothing, Nothing, Nothing, Nothing, typeof(SciMLBase.DEFAULT_OBSERVED_NO_TIME), Nothing, Nothing, SymbolicIndexingInterface.SymbolCache{Nothing, Nothing, Nothing}, Nothing, Nothing, Nothing, Nothing, Nothing, Nothing}, Optimization.ReInitCache{Vector{Int64}, Vector{Int64}}}, Int64}, Int64, 1}}}, OptimizationForwardDiffExt.var\"#37#55\"{OptimizationFunction{true, AutoForwardDiff{nothing, Nothing}, Serialization.__deserialized_types__.var\"#82#87\"{Serialization.__deserialized_types__.var\"#univariate_obj#86\"{Matrix{Float64}, Int64, Vector{Float64}, ComposedFunction{typeof(Main.OptimalityCriteria.d_criterion), Main.ModelBuilder.var\"#model_builder#19\"{Int64, Int64, Bool, Vector{Any}, Bool, Bool}}, Vector{Float64}}}, Nothing, Nothing, Nothing, Nothing, Nothing, Nothing, Nothing, Nothing, Nothing, typeof(SciMLBase.DEFAULT_OBSERVED_NO_TIME), Nothing, Nothing, SymbolicIndexingInterface.SymbolCache{Nothing, Nothing, Nothing}, Nothing, Nothing, Nothing, Nothing, Nothing, Nothing}, Optimization.ReInitCache{Vector{Int64}, Vector{Int64}}}}, OptimizationForwardDiffExt.var\"#41#59\"{ForwardDiff.HessianConfig{ForwardDiff.Tag{OptimizationForwardDiffExt.var\"#37#55\"{OptimizationFunction{true, AutoForwardDiff{nothing, Nothing}, Serialization.__deserialized_types__.var\"#82#87\"{Serialization.__deserialized_types__.var\"#univariate_obj#86\"{Matrix{Float64}, Int64, Vector{Float64}, ComposedFunction{typeof(Main.OptimalityCriteria.d_criterion), Main.ModelBuilder.var\"#model_builder#19\"{Int64, Int64, Bool, Vector{Any}, Bool, Bool}}, Vector{Float64}}}, Nothing, Nothing, Nothing, Nothing, Nothing, Nothing, Nothing, Nothing, Nothing, typeof(SciMLBase.DEFAULT_OBSERVED_NO_TIME), Nothing, Nothing, SymbolicIndexingInterface.SymbolCache{Nothing, Nothing, Nothing}, Nothing, Nothing, Nothing, Nothing, Nothing, Nothing}, Optimization.ReInitCache{Vector{Int64}, Vector{Int64}}}, Int64}, Int64, 1, Vector{ForwardDiff.Dual{ForwardDiff.Tag{OptimizationForwardDiffExt.var\"#37#55\"{OptimizationFunction{true, AutoForwardDiff{nothing, Nothing}, Serialization.__deserialized_types__.var\"#82#87\"{Serialization.__deserialized_types__.var\"#univariate_obj#86\"{Matrix{Float64}, Int64, Vector{Float64}, ComposedFunction{typeof(Main.OptimalityCriteria.d_criterion), Main.ModelBuilder.var\"#model_builder#19\"{Int64, Int64, Bool, Vector{Any}, Bool, Bool}}, Vector{Float64}}}, Nothing, Nothing, Nothing, Nothing, Nothing, Nothing, Nothing, Nothing, Nothing, typeof(SciMLBase.DEFAULT_OBSERVED_NO_TIME), Nothing, Nothing, SymbolicIndexingInterface.SymbolCache{Nothing, Nothing, Nothing}, Nothing, Nothing, Nothing, Nothing, Nothing, Nothing}, Optimization.ReInitCache{Vector{Int64}, Vector{Int64}}}, Int64}, ForwardDiff.Dual{ForwardDiff.Tag{OptimizationForwardDiffExt.var\"#37#55\"{OptimizationFunction{true, AutoForwardDiff{nothing, Nothing}, Serialization.__deserialized_types__.var\"#82#87\"{Serialization.__deserialized_types__.var\"#univariate_obj#86\"{Matrix{Float64}, Int64, Vector{Float64}, ComposedFunction{typeof(Main.OptimalityCriteria.d_criterion), Main.ModelBuilder.var\"#model_builder#19\"{Int64, Int64, Bool, Vector{Any}, Bool, Bool}}, Vector{Float64}}}, Nothing, Nothing, Nothing, Nothing, Nothing, Nothing, Nothing, Nothing, Nothing, typeof(SciMLBase.DEFAULT_OBSERVED_NO_TIME), Nothing, Nothing, SymbolicIndexingInterface.SymbolCache{Nothing, Nothing, Nothing}, Nothing, Nothing, Nothing, Nothing, Nothing, Nothing}, Optimization.ReInitCache{Vector{Int64}, Vector{Int64}}}, Int64}, Int64, 1}, 1}}, Vector{ForwardDiff.Dual{ForwardDiff.Tag{OptimizationForwardDiffExt.var\"#37#55\"{OptimizationFunction{true, AutoForwardDiff{nothing, Nothing}, Serialization.__deserialized_types__.var\"#82#87\"{Serialization.__deserialized_types__.var\"#univariate_obj#86\"{Matrix{Float64}, Int64, Vector{Float64}, ComposedFunction{typeof(Main.OptimalityCriteria.d_criterion), Main.ModelBuilder.var\"#model_builder#19\"{Int64, Int64, Bool, Vector{Any}, Bool, Bool}}, Vector{Float64}}}, Nothing, Nothing, Nothing, Nothing, Nothing, Nothing, Nothing, Nothing, Nothing, typeof(SciMLBase.DEFAULT_OBSERVED_NO_TIME), Nothing, Nothing, SymbolicIndexingInterface.SymbolCache{Nothing, Nothing, Nothing}, Nothing, Nothing, Nothing, Nothing, Nothing, Nothing}, Optimization.ReInitCache{Vector{Int64}, Vector{Int64}}}, Int64}, Int64, 1}}}, OptimizationForwardDiffExt.var\"#37#55\"{OptimizationFunction{true, AutoForwardDiff{nothing, Nothing}, Serialization.__deserialized_types__.var\"#82#87\"{Serialization.__deserialized_types__.var\"#univariate_obj#86\"{Matrix{Float64}, Int64, Vector{Float64}, ComposedFunction{typeof(Main.OptimalityCriteria.d_criterion), Main.ModelBuilder.var\"#model_builder#19\"{Int64, Int64, Bool, Vector{Any}, Bool, Bool}}, Vector{Float64}}}, Nothing, Nothing, Nothing, Nothing, Nothing, Nothing, Nothing, Nothing, Nothing, typeof(SciMLBase.DEFAULT_OBSERVED_NO_TIME), Nothing, Nothing, SymbolicIndexingInterface.SymbolCache{Nothing, Nothing, Nothing}, Nothing, Nothing, Nothing, Nothing, Nothing, Nothing}, Optimization.ReInitCache{Vector{Int64}, Vector{Int64}}}}, OptimizationForwardDiffExt.var\"#44#62\", Nothing, OptimizationForwardDiffExt.var\"#48#66\"{OptimizationFunction{true, AutoForwardDiff{nothing, Nothing}, Serialization.__deserialized_types__.var\"#82#87\"{Serialization.__deserialized_types__.var\"#univariate_obj#86\"{Matrix{Float64}, Int64, Vector{Float64}, ComposedFunction{typeof(Main.OptimalityCriteria.d_criterion), Main.ModelBuilder.var\"#model_builder#19\"{Int64, Int64, Bool, Vector{Any}, Bool, Bool}}, Vector{Float64}}}, Nothing, Nothing, Nothing, Nothing, Nothing, Nothing, Nothing, Nothing, Nothing, typeof(SciMLBase.DEFAULT_OBSERVED_NO_TIME), Nothing, Nothing, SymbolicIndexingInterface.SymbolCache{Nothing, Nothing, Nothing}, Nothing, Nothing, Nothing, Nothing, Nothing, Nothing}, Optimization.ReInitCache{Vector{Int64}, Vector{Int64}}}, OptimizationForwardDiffExt.var\"#53#71\"{OptimizationFunction{true, AutoForwardDiff{nothing, Nothing}, Serialization.__deserialized_types__.var\"#82#87\"{Serialization.__deserialized_types__.var\"#univariate_obj#86\"{Matrix{Float64}, Int64, Vector{Float64}, ComposedFunction{typeof(Main.OptimalityCriteria.d_criterion), Main.ModelBuilder.var\"#model_builder#19\"{Int64, Int64, Bool, Vector{Any}, Bool, Bool}}, Vector{Float64}}}, Nothing, Nothing, Nothing, Nothing, Nothing, Nothing, Nothing, Nothing, Nothing, typeof(SciMLBase.DEFAULT_OBSERVED_NO_TIME), Nothing, Nothing, SymbolicIndexingInterface.SymbolCache{Nothing, Nothing, Nothing}, Nothing, Nothing, Nothing, Nothing, Nothing, Nothing}, Optimization.ReInitCache{Vector{Int64}, Vector{Int64}}}, Nothing, Nothing, Nothing, typeof(SciMLBase.DEFAULT_OBSERVED_NO_TIME), Nothing, Nothing, SymbolicIndexingInterface.SymbolCache{Nothing, Nothing, Nothing}, Nothing, Nothing, Nothing, Nothing, Nothing, Nothing}, Optimization.ReInitCache{Vector{Int64}, Vector{Int64}}, Vector{Int64}, Vector{Float64}, Nothing, Nothing, Nothing, Algorithm, Base.Iterators.Cycle{Tuple{Optimization.NullData}}, Bool, Optimization.NullCallback}, Algorithm, Float64, Opt, Float64, Nothing}, ::Vector{Float64})\n\nClosest candidates are:\n  *(::Any, ::Any, !Matched::Any, !Matched::Any...)\n   @ Base operators.jl:578\n  *(!Matched::StridedMatrix{T}, ::StridedVector{S}) where {T<:Union{Float32, Float64, ComplexF64, ComplexF32}, S<:Real}\n   @ LinearAlgebra C:\\Users\\benja\\AppData\\Local\\Programs\\Julia-1.9.3\\share\\julia\\stdlib\\v1.9\\LinearAlgebra\\src\\matmul.jl:49\n  *(!Matched::Union{InitialValues.NonspecificInitialValue, InitialValues.SpecificInitialValue{typeof(*)}}, ::Any)\n   @ InitialValues C:\\Users\\benja\\.julia\\packages\\InitialValues\\OWP8V\\src\\InitialValues.jl:154\n  ...\n\nStacktrace:\n  [1] #bounded_univariate_gradient_optimizer#81\n    @ d:\\School\\Grad School\\Research\\code\\doe\\cexch_playground.ipynb:40\n  [2] #133\n    @ d:\\School\\Grad School\\Research\\code\\doe\\cexch_playground.ipynb:52\n  [3] #cexch_optimize#84\n    @ d:\\School\\Grad School\\Research\\code\\doe\\cexch_playground.ipynb:91\n  [4] #cexch#85\n    @ d:\\School\\Grad School\\Research\\code\\doe\\cexch_playground.ipynb:132\n  [5] cexch\n    @ d:\\School\\Grad School\\Research\\code\\doe\\cexch_playground.ipynb:111 [inlined]\n  [6] optimize_designs\n    @ d:\\School\\Grad School\\Research\\code\\doe\\cexch_playground.ipynb:12\n  [7] #invokelatest#2\n    @ .\\essentials.jl:819\n  [8] invokelatest\n    @ .\\essentials.jl:816\n  [9] #110\n    @ C:\\Users\\benja\\AppData\\Local\\Programs\\Julia-1.9.3\\share\\julia\\stdlib\\v1.9\\Distributed\\src\\process_messages.jl:285\n [10] run_work_thunk\n    @ C:\\Users\\benja\\AppData\\Local\\Programs\\Julia-1.9.3\\share\\julia\\stdlib\\v1.9\\Distributed\\src\\process_messages.jl:70\n [11] macro expansion\n    @ C:\\Users\\benja\\AppData\\Local\\Programs\\Julia-1.9.3\\share\\julia\\stdlib\\v1.9\\Distributed\\src\\process_messages.jl:285 [inlined]\n [12] #109\n    @ .\\task.jl:514",
     "output_type": "error",
     "traceback": [
      "On worker 8:\n",
      "MethodError: no method matching *(::SciMLBase.OptimizationSolution{Float64, 1, Vector{Float64}, OptimizationCache{OptimizationFunction{true, AutoForwardDiff{nothing, Nothing}, Serialization.__deserialized_types__.var\"#82#87\"{Serialization.__deserialized_types__.var\"#univariate_obj#86\"{Matrix{Float64}, Int64, Vector{Float64}, ComposedFunction{typeof(Main.OptimalityCriteria.d_criterion), Main.ModelBuilder.var\"#model_builder#19\"{Int64, Int64, Bool, Vector{Any}, Bool, Bool}}, Vector{Float64}}}, OptimizationForwardDiffExt.var\"#38#56\"{ForwardDiff.GradientConfig{ForwardDiff.Tag{OptimizationForwardDiffExt.var\"#37#55\"{OptimizationFunction{true, AutoForwardDiff{nothing, Nothing}, Serialization.__deserialized_types__.var\"#82#87\"{Serialization.__deserialized_types__.var\"#univariate_obj#86\"{Matrix{Float64}, Int64, Vector{Float64}, ComposedFunction{typeof(Main.OptimalityCriteria.d_criterion), Main.ModelBuilder.var\"#model_builder#19\"{Int64, Int64, Bool, Vector{Any}, Bool, Bool}}, Vector{Float64}}}, Nothing, Nothing, Nothing, Nothing, Nothing, Nothing, Nothing, Nothing, Nothing, typeof(SciMLBase.DEFAULT_OBSERVED_NO_TIME), Nothing, Nothing, SymbolicIndexingInterface.SymbolCache{Nothing, Nothing, Nothing}, Nothing, Nothing, Nothing, Nothing, Nothing, Nothing}, Optimization.ReInitCache{Vector{Int64}, Vector{Int64}}}, Int64}, Int64, 1, Vector{ForwardDiff.Dual{ForwardDiff.Tag{OptimizationForwardDiffExt.var\"#37#55\"{OptimizationFunction{true, AutoForwardDiff{nothing, Nothing}, Serialization.__deserialized_types__.var\"#82#87\"{Serialization.__deserialized_types__.var\"#univariate_obj#86\"{Matrix{Float64}, Int64, Vector{Float64}, ComposedFunction{typeof(Main.OptimalityCriteria.d_criterion), Main.ModelBuilder.var\"#model_builder#19\"{Int64, Int64, Bool, Vector{Any}, Bool, Bool}}, Vector{Float64}}}, Nothing, Nothing, Nothing, Nothing, Nothing, Nothing, Nothing, Nothing, Nothing, typeof(SciMLBase.DEFAULT_OBSERVED_NO_TIME), Nothing, Nothing, SymbolicIndexingInterface.SymbolCache{Nothing, Nothing, Nothing}, Nothing, Nothing, Nothing, Nothing, Nothing, Nothing}, Optimization.ReInitCache{Vector{Int64}, Vector{Int64}}}, Int64}, Int64, 1}}}, OptimizationForwardDiffExt.var\"#37#55\"{OptimizationFunction{true, AutoForwardDiff{nothing, Nothing}, Serialization.__deserialized_types__.var\"#82#87\"{Serialization.__deserialized_types__.var\"#univariate_obj#86\"{Matrix{Float64}, Int64, Vector{Float64}, ComposedFunction{typeof(Main.OptimalityCriteria.d_criterion), Main.ModelBuilder.var\"#model_builder#19\"{Int64, Int64, Bool, Vector{Any}, Bool, Bool}}, Vector{Float64}}}, Nothing, Nothing, Nothing, Nothing, Nothing, Nothing, Nothing, Nothing, Nothing, typeof(SciMLBase.DEFAULT_OBSERVED_NO_TIME), Nothing, Nothing, SymbolicIndexingInterface.SymbolCache{Nothing, Nothing, Nothing}, Nothing, Nothing, Nothing, Nothing, Nothing, Nothing}, Optimization.ReInitCache{Vector{Int64}, Vector{Int64}}}}, OptimizationForwardDiffExt.var\"#41#59\"{ForwardDiff.HessianConfig{ForwardDiff.Tag{OptimizationForwardDiffExt.var\"#37#55\"{OptimizationFunction{true, AutoForwardDiff{nothing, Nothing}, Serialization.__deserialized_types__.var\"#82#87\"{Serialization.__deserialized_types__.var\"#univariate_obj#86\"{Matrix{Float64}, Int64, Vector{Float64}, ComposedFunction{typeof(Main.OptimalityCriteria.d_criterion), Main.ModelBuilder.var\"#model_builder#19\"{Int64, Int64, Bool, Vector{Any}, Bool, Bool}}, Vector{Float64}}}, Nothing, Nothing, Nothing, Nothing, Nothing, Nothing, Nothing, Nothing, Nothing, typeof(SciMLBase.DEFAULT_OBSERVED_NO_TIME), Nothing, Nothing, SymbolicIndexingInterface.SymbolCache{Nothing, Nothing, Nothing}, Nothing, Nothing, Nothing, Nothing, Nothing, Nothing}, Optimization.ReInitCache{Vector{Int64}, Vector{Int64}}}, Int64}, Int64, 1, Vector{ForwardDiff.Dual{ForwardDiff.Tag{OptimizationForwardDiffExt.var\"#37#55\"{OptimizationFunction{true, AutoForwardDiff{nothing, Nothing}, Serialization.__deserialized_types__.var\"#82#87\"{Serialization.__deserialized_types__.var\"#univariate_obj#86\"{Matrix{Float64}, Int64, Vector{Float64}, ComposedFunction{typeof(Main.OptimalityCriteria.d_criterion), Main.ModelBuilder.var\"#model_builder#19\"{Int64, Int64, Bool, Vector{Any}, Bool, Bool}}, Vector{Float64}}}, Nothing, Nothing, Nothing, Nothing, Nothing, Nothing, Nothing, Nothing, Nothing, typeof(SciMLBase.DEFAULT_OBSERVED_NO_TIME), Nothing, Nothing, SymbolicIndexingInterface.SymbolCache{Nothing, Nothing, Nothing}, Nothing, Nothing, Nothing, Nothing, Nothing, Nothing}, Optimization.ReInitCache{Vector{Int64}, Vector{Int64}}}, Int64}, ForwardDiff.Dual{ForwardDiff.Tag{OptimizationForwardDiffExt.var\"#37#55\"{OptimizationFunction{true, AutoForwardDiff{nothing, Nothing}, Serialization.__deserialized_types__.var\"#82#87\"{Serialization.__deserialized_types__.var\"#univariate_obj#86\"{Matrix{Float64}, Int64, Vector{Float64}, ComposedFunction{typeof(Main.OptimalityCriteria.d_criterion), Main.ModelBuilder.var\"#model_builder#19\"{Int64, Int64, Bool, Vector{Any}, Bool, Bool}}, Vector{Float64}}}, Nothing, Nothing, Nothing, Nothing, Nothing, Nothing, Nothing, Nothing, Nothing, typeof(SciMLBase.DEFAULT_OBSERVED_NO_TIME), Nothing, Nothing, SymbolicIndexingInterface.SymbolCache{Nothing, Nothing, Nothing}, Nothing, Nothing, Nothing, Nothing, Nothing, Nothing}, Optimization.ReInitCache{Vector{Int64}, Vector{Int64}}}, Int64}, Int64, 1}, 1}}, Vector{ForwardDiff.Dual{ForwardDiff.Tag{OptimizationForwardDiffExt.var\"#37#55\"{OptimizationFunction{true, AutoForwardDiff{nothing, Nothing}, Serialization.__deserialized_types__.var\"#82#87\"{Serialization.__deserialized_types__.var\"#univariate_obj#86\"{Matrix{Float64}, Int64, Vector{Float64}, ComposedFunction{typeof(Main.OptimalityCriteria.d_criterion), Main.ModelBuilder.var\"#model_builder#19\"{Int64, Int64, Bool, Vector{Any}, Bool, Bool}}, Vector{Float64}}}, Nothing, Nothing, Nothing, Nothing, Nothing, Nothing, Nothing, Nothing, Nothing, typeof(SciMLBase.DEFAULT_OBSERVED_NO_TIME), Nothing, Nothing, SymbolicIndexingInterface.SymbolCache{Nothing, Nothing, Nothing}, Nothing, Nothing, Nothing, Nothing, Nothing, Nothing}, Optimization.ReInitCache{Vector{Int64}, Vector{Int64}}}, Int64}, Int64, 1}}}, OptimizationForwardDiffExt.var\"#37#55\"{OptimizationFunction{true, AutoForwardDiff{nothing, Nothing}, Serialization.__deserialized_types__.var\"#82#87\"{Serialization.__deserialized_types__.var\"#univariate_obj#86\"{Matrix{Float64}, Int64, Vector{Float64}, ComposedFunction{typeof(Main.OptimalityCriteria.d_criterion), Main.ModelBuilder.var\"#model_builder#19\"{Int64, Int64, Bool, Vector{Any}, Bool, Bool}}, Vector{Float64}}}, Nothing, Nothing, Nothing, Nothing, Nothing, Nothing, Nothing, Nothing, Nothing, typeof(SciMLBase.DEFAULT_OBSERVED_NO_TIME), Nothing, Nothing, SymbolicIndexingInterface.SymbolCache{Nothing, Nothing, Nothing}, Nothing, Nothing, Nothing, Nothing, Nothing, Nothing}, Optimization.ReInitCache{Vector{Int64}, Vector{Int64}}}}, OptimizationForwardDiffExt.var\"#44#62\", Nothing, OptimizationForwardDiffExt.var\"#48#66\"{OptimizationFunction{true, AutoForwardDiff{nothing, Nothing}, Serialization.__deserialized_types__.var\"#82#87\"{Serialization.__deserialized_types__.var\"#univariate_obj#86\"{Matrix{Float64}, Int64, Vector{Float64}, ComposedFunction{typeof(Main.OptimalityCriteria.d_criterion), Main.ModelBuilder.var\"#model_builder#19\"{Int64, Int64, Bool, Vector{Any}, Bool, Bool}}, Vector{Float64}}}, Nothing, Nothing, Nothing, Nothing, Nothing, Nothing, Nothing, Nothing, Nothing, typeof(SciMLBase.DEFAULT_OBSERVED_NO_TIME), Nothing, Nothing, SymbolicIndexingInterface.SymbolCache{Nothing, Nothing, Nothing}, Nothing, Nothing, Nothing, Nothing, Nothing, Nothing}, Optimization.ReInitCache{Vector{Int64}, Vector{Int64}}}, OptimizationForwardDiffExt.var\"#53#71\"{OptimizationFunction{true, AutoForwardDiff{nothing, Nothing}, Serialization.__deserialized_types__.var\"#82#87\"{Serialization.__deserialized_types__.var\"#univariate_obj#86\"{Matrix{Float64}, Int64, Vector{Float64}, ComposedFunction{typeof(Main.OptimalityCriteria.d_criterion), Main.ModelBuilder.var\"#model_builder#19\"{Int64, Int64, Bool, Vector{Any}, Bool, Bool}}, Vector{Float64}}}, Nothing, Nothing, Nothing, Nothing, Nothing, Nothing, Nothing, Nothing, Nothing, typeof(SciMLBase.DEFAULT_OBSERVED_NO_TIME), Nothing, Nothing, SymbolicIndexingInterface.SymbolCache{Nothing, Nothing, Nothing}, Nothing, Nothing, Nothing, Nothing, Nothing, Nothing}, Optimization.ReInitCache{Vector{Int64}, Vector{Int64}}}, Nothing, Nothing, Nothing, typeof(SciMLBase.DEFAULT_OBSERVED_NO_TIME), Nothing, Nothing, SymbolicIndexingInterface.SymbolCache{Nothing, Nothing, Nothing}, Nothing, Nothing, Nothing, Nothing, Nothing, Nothing}, Optimization.ReInitCache{Vector{Int64}, Vector{Int64}}, Vector{Int64}, Vector{Float64}, Nothing, Nothing, Nothing, Algorithm, Base.Iterators.Cycle{Tuple{Optimization.NullData}}, Bool, Optimization.NullCallback}, Algorithm, Float64, Opt, Float64, Nothing}, ::Vector{Float64})\n",
      "\n",
      "Closest candidates are:\n",
      "  *(::Any, ::Any, !Matched::Any, !Matched::Any...)\n",
      "   @ Base operators.jl:578\n",
      "  *(!Matched::StridedMatrix{T}, ::StridedVector{S}) where {T<:Union{Float32, Float64, ComplexF64, ComplexF32}, S<:Real}\n",
      "   @ LinearAlgebra C:\\Users\\benja\\AppData\\Local\\Programs\\Julia-1.9.3\\share\\julia\\stdlib\\v1.9\\LinearAlgebra\\src\\matmul.jl:49\n",
      "  *(!Matched::Union{InitialValues.NonspecificInitialValue, InitialValues.SpecificInitialValue{typeof(*)}}, ::Any)\n",
      "   @ InitialValues C:\\Users\\benja\\.julia\\packages\\InitialValues\\OWP8V\\src\\InitialValues.jl:154\n",
      "  ...\n",
      "\n",
      "Stacktrace:\n",
      "  [1] #bounded_univariate_gradient_optimizer#81\n",
      "    @ d:\\School\\Grad School\\Research\\code\\doe\\cexch_playground.ipynb:40\n",
      "  [2] #133\n",
      "    @ d:\\School\\Grad School\\Research\\code\\doe\\cexch_playground.ipynb:52\n",
      "  [3] #cexch_optimize#84\n",
      "    @ d:\\School\\Grad School\\Research\\code\\doe\\cexch_playground.ipynb:91\n",
      "  [4] #cexch#85\n",
      "    @ d:\\School\\Grad School\\Research\\code\\doe\\cexch_playground.ipynb:132\n",
      "  [5] cexch\n",
      "    @ d:\\School\\Grad School\\Research\\code\\doe\\cexch_playground.ipynb:111 [inlined]\n",
      "  [6] optimize_designs\n",
      "    @ d:\\School\\Grad School\\Research\\code\\doe\\cexch_playground.ipynb:12\n",
      "  [7] #invokelatest#2\n",
      "    @ .\\essentials.jl:819\n",
      "  [8] invokelatest\n",
      "    @ .\\essentials.jl:816\n",
      "  [9] #110\n",
      "    @ C:\\Users\\benja\\AppData\\Local\\Programs\\Julia-1.9.3\\share\\julia\\stdlib\\v1.9\\Distributed\\src\\process_messages.jl:285\n",
      " [10] run_work_thunk\n",
      "    @ C:\\Users\\benja\\AppData\\Local\\Programs\\Julia-1.9.3\\share\\julia\\stdlib\\v1.9\\Distributed\\src\\process_messages.jl:70\n",
      " [11] macro expansion\n",
      "    @ C:\\Users\\benja\\AppData\\Local\\Programs\\Julia-1.9.3\\share\\julia\\stdlib\\v1.9\\Distributed\\src\\process_messages.jl:285 [inlined]\n",
      " [12] #109\n",
      "    @ .\\task.jl:514\n",
      "\n",
      "Stacktrace:\n",
      "  [1] (::Base.var\"#988#990\")(x::Task)\n",
      "    @ Base .\\asyncmap.jl:177\n",
      "  [2] foreach(f::Base.var\"#988#990\", itr::Vector{Any})\n",
      "    @ Base .\\abstractarray.jl:3075\n",
      "  [3] maptwice(wrapped_f::Function, chnl::Channel{Any}, worker_tasks::Vector{Any}, c::Vector{JobParams})\n",
      "    @ Base .\\asyncmap.jl:177\n",
      "  [4] wrap_n_exec_twice\n",
      "    @ .\\asyncmap.jl:153 [inlined]\n",
      "  [5] #async_usemap#973\n",
      "    @ .\\asyncmap.jl:103 [inlined]\n",
      "  [6] async_usemap\n",
      "    @ .\\asyncmap.jl:84 [inlined]\n",
      "  [7] #asyncmap#972\n",
      "    @ .\\asyncmap.jl:81 [inlined]\n",
      "  [8] asyncmap\n",
      "    @ .\\asyncmap.jl:80 [inlined]\n",
      "  [9] pmap(f::Function, p::WorkerPool, c::Vector{JobParams}; distributed::Bool, batch_size::Int64, on_error::Nothing, retry_delays::Vector{Any}, retry_check::Nothing)\n",
      "    @ Distributed C:\\Users\\benja\\AppData\\Local\\Programs\\Julia-1.9.3\\share\\julia\\stdlib\\v1.9\\Distributed\\src\\pmap.jl:126\n",
      " [10] pmap(f::Function, p::WorkerPool, c::Vector{JobParams})\n",
      "    @ Distributed C:\\Users\\benja\\AppData\\Local\\Programs\\Julia-1.9.3\\share\\julia\\stdlib\\v1.9\\Distributed\\src\\pmap.jl:99\n",
      " [11] pmap(f::Function, c::Vector{JobParams}; kwargs::Base.Pairs{Symbol, Union{}, Tuple{}, NamedTuple{(), Tuple{}}})\n",
      "    @ Distributed C:\\Users\\benja\\AppData\\Local\\Programs\\Julia-1.9.3\\share\\julia\\stdlib\\v1.9\\Distributed\\src\\pmap.jl:156\n",
      " [12] pmap\n",
      "    @ C:\\Users\\benja\\AppData\\Local\\Programs\\Julia-1.9.3\\share\\julia\\stdlib\\v1.9\\Distributed\\src\\pmap.jl:156 [inlined]\n",
      " [13] run_optimization_job(job::DesignOptimizationJob; batch_size::Int64)\n",
      "    @ Main d:\\School\\Grad School\\Research\\code\\doe\\cexch_playground.ipynb:3\n",
      " [14] top-level scope\n",
      "    @ d:\\School\\Grad School\\Research\\code\\doe\\cexch_playground.ipynb:1"
     ]
    }
   ],
   "source": [
    "results = run_optimization_job(optimization_job; batch_size=50)"
   ]
  }
 ],
 "metadata": {
  "kernelspec": {
   "display_name": "Julia 1.10.5",
   "language": "julia",
   "name": "julia-1.10"
  },
  "language_info": {
   "file_extension": ".jl",
   "mimetype": "application/julia",
   "name": "julia",
   "version": "1.10.5"
  }
 },
 "nbformat": 4,
 "nbformat_minor": 2
}
