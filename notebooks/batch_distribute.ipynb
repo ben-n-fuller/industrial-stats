{
 "cells": [
  {
   "cell_type": "code",
   "execution_count": 1,
   "metadata": {},
   "outputs": [],
   "source": [
    "include(\"../src/industrial_stats.jl\")\n",
    "using .IndustrialStats"
   ]
  },
  {
   "cell_type": "markdown",
   "metadata": {},
   "source": [
    "# Overview\n",
    "The goal is to build a runner that distributes a bunch of batch jobs across multiple processors on the host to speed up the computation time.\n",
    "\n",
    "The user must supply a function that handles a batch and another function that, given the current batch number and batch size, produces an input for the function that handles each job.\n",
    "\n",
    "Then based on the parameters provided by the user the runner will spin up a certain number of processes and distribute the jobs over these, invoking the batch function each time a job finishes on any of the processors."
   ]
  },
  {
   "cell_type": "markdown",
   "metadata": {},
   "source": [
    "# Settings"
   ]
  },
  {
   "cell_type": "code",
   "execution_count": 1,
   "metadata": {},
   "outputs": [
    {
     "data": {
      "text/plain": [
       "4"
      ]
     },
     "execution_count": 1,
     "metadata": {},
     "output_type": "execute_result"
    }
   ],
   "source": [
    "NUM_PROCS = 4"
   ]
  },
  {
   "cell_type": "markdown",
   "metadata": {},
   "source": [
    "# Imports"
   ]
  },
  {
   "cell_type": "code",
   "execution_count": 2,
   "metadata": {},
   "outputs": [
    {
     "data": {
      "text/plain": [
       "4-element Vector{Int64}:\n",
       " 2\n",
       " 3\n",
       " 4\n",
       " 5"
      ]
     },
     "execution_count": 2,
     "metadata": {},
     "output_type": "execute_result"
    }
   ],
   "source": [
    "# Set the number of processes to use for parallel computing\n",
    "using Distributed\n",
    "addprocs(NUM_PROCS)"
   ]
  },
  {
   "cell_type": "code",
   "execution_count": 7,
   "metadata": {},
   "outputs": [
    {
     "name": "stdout",
     "output_type": "stream",
     "text": [
      "      From worker 4:\tWARNING: replacing module IndustrialStats.\n",
      "      From worker 5:\tWARNING: replacing module IndustrialStats.\n",
      "      From worker 3:\tWARNING: replacing module IndustrialStats.\n",
      "      From worker 2:\tWARNING: replacing module IndustrialStats.\n"
     ]
    },
    {
     "name": "stderr",
     "output_type": "stream",
     "text": [
      "WARNING: replacing module IndustrialStats.\n"
     ]
    }
   ],
   "source": [
    "using HDF5\n",
    "using Dates\n",
    "using Logging\n",
    "using IterTools\n",
    "\n",
    "# These imports are distributed to all processes\n",
    "@everywhere include(\"../src/industrial_stats.jl\")\n",
    "@everywhere using .IndustrialStats\n",
    "@everywhere using LinearAlgebra\n",
    "@everywhere using Optim\n",
    "@everywhere using ForwardDiff\n",
    "@everywhere using Optimization, OptimizationNLopt"
   ]
  },
  {
   "cell_type": "code",
   "execution_count": 8,
   "metadata": {},
   "outputs": [
    {
     "data": {
      "text/plain": [
       "batch_matrix (generic function with 1 method)"
      ]
     },
     "execution_count": 8,
     "metadata": {},
     "output_type": "execute_result"
    }
   ],
   "source": [
    "function batch_matrix(matrix::Array{Float32, 3}, idx, batch_size)::Array{Float32, 3}\n",
    "    size_check = size(matrix, 1)\n",
    "    return matrix[idx:min(idx + batch_size - 1, size_check), :, :]\n",
    "end\n",
    "\n",
    "function batch_matrix_generator(matrix::Array{Float32, 3})::Function\n",
    "    (idx, batch_size) -> batch_matrix(matrix, idx, batch_size)\n",
    "end"
   ]
  }
 ],
 "metadata": {
  "kernelspec": {
   "display_name": "Julia 1.10.5",
   "language": "julia",
   "name": "julia-1.10"
  },
  "language_info": {
   "file_extension": ".jl",
   "mimetype": "application/julia",
   "name": "julia",
   "version": "1.10.5"
  }
 },
 "nbformat": 4,
 "nbformat_minor": 2
}
