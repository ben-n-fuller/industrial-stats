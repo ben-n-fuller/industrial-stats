{
 "cells": [
  {
   "cell_type": "markdown",
   "metadata": {},
   "source": [
    "## Overview\n",
    "In order to compute the I-Criterion for designs in any design space, it is necessary to compute the region moments matrix, which is a constant with respect to a given feasible region and model expansion function. For a given model expansion function $$\\mathbf f:\\mathcal{X} \\rightarrow \\mathbb R^{p}$$ that expands a design point into a feature vector of the $p$ corresponding model terms and a given design space $\\mathcal X\\subseteq \\mathbb R^K$, the region moments matrix is $$\\int_\\mathcal{X} \\mathbf f(\\mathbf x')\\mathbf f'(\\mathbf x')\\text{d}\\mathbf x.$$ For constrained feasible regions defined by linear constraints in high-dimensions, this integral can be difficult to compute analytically or symbolically, and numerical approximation is typically employed. This notebook includes a simple Monte Carlo integration technique along with a rejection sampling algorithm to generate large, uniformly distributed subsets of the design space used in the integral estimation. "
   ]
  },
  {
   "cell_type": "markdown",
   "metadata": {},
   "source": [
    "## Imports"
   ]
  },
  {
   "cell_type": "code",
   "execution_count": 1,
   "metadata": {},
   "outputs": [],
   "source": [
    "using LinearAlgebra\n",
    "using Optim\n",
    "using Polyhedra\n",
    "using CDDLib\n",
    "using Statistics\n",
    "using Distributions\n",
    "\n",
    "include(\"./model_builder/model_builder.jl\")\n",
    "using .ModelBuilder\n",
    "\n",
    "include(\"./model_builder/design_initializer.jl\")\n",
    "using .DesignInitializer\n",
    "\n",
    "include(\"./optimization/optimality_criterion.jl\")\n",
    "using .OptimalityCriterion\n",
    "\n",
    "include(\"./utility/util.jl\")\n",
    "import .Util: squeeze"
   ]
  },
  {
   "cell_type": "markdown",
   "metadata": {},
   "source": [
    "## Rejection Sampling and Region Moments Computation"
   ]
  },
  {
   "cell_type": "code",
   "execution_count": 2,
   "metadata": {},
   "outputs": [
    {
     "data": {
      "text/plain": [
       "format_matrix (generic function with 1 method)"
      ]
     },
     "metadata": {},
     "output_type": "display_data"
    }
   ],
   "source": [
    "# Sample points from the simplex using the Dirichlet distribution\n",
    "function simple_simplex_sampler(N, K)\n",
    "    a = ones(K)\n",
    "    sampler = Dirichlet(a)\n",
    "    samples = zeros(N, K)\n",
    "\n",
    "    for i in axes(samples, 1)\n",
    "        samples[i, :] .= rand(sampler)\n",
    "    end\n",
    "\n",
    "    return samples\n",
    "end\n",
    "\n",
    "# Rejection sampler\n",
    "function rejection_sampler(n, K, A, b, sampler)\n",
    "    X = sampler(n, K)\n",
    "    satisfies = (x) -> all(A * x .<= b)\n",
    "\n",
    "    while true\n",
    "        # Get the design points in X that satisfy the constraints\n",
    "        good_points = vec(mapslices(satisfies, X; dims=2))\n",
    "        num_bad_points = sum(.!good_points)\n",
    "\n",
    "        # If there are no bad points, return the good points\n",
    "        if num_bad_points == 0\n",
    "            return X\n",
    "        end\n",
    "\n",
    "        # Resample bad points\n",
    "        X[.!good_points, :] .= sampler(num_bad_points, K)\n",
    "    end\n",
    "end\n",
    "\n",
    "function get_simplex_constraints(n)\n",
    "    # Non-negativity constraints\n",
    "    A = [\n",
    "        -1 * I(n);\n",
    "        ones(1, n)\n",
    "    ]\n",
    "    b = zeros(n + 1)\n",
    "\n",
    "    # Sum to one constraint\n",
    "    b[end] = 1\n",
    "    return A, b\n",
    "end\n",
    "\n",
    "function compute_volume(A, b; affines=BitSet([]))\n",
    "    p = polyhedron(hrep(A, b, affines), CDDLib.Library())\n",
    "    return volume(p)\n",
    "end\n",
    "\n",
    "function compute_outer_product_mean(X, f)\n",
    "    expanded = f(X)\n",
    "    n, p = size(expanded)\n",
    "    total_sum = zeros((p, p))\n",
    "    \n",
    "    for i in axes(expanded, 1)\n",
    "        outer_prod = expanded[i, :] * expanded[i, :]'\n",
    "        total_sum .+= outer_prod\n",
    "    end\n",
    "\n",
    "    mean_est = total_sum ./ n\n",
    "\n",
    "    return mean_est\n",
    "end\n",
    "\n",
    "function compute_elem_mean(X, f)\n",
    "    expanded = f(X)\n",
    "    n, N, K = size(expanded)\n",
    "    return sum(expanded, dims=1) ./ n\n",
    "end\n",
    "\n",
    "function compute_mc_integral(X, f, A, b)\n",
    "    # Compute volume of the polytope\n",
    "    vol = compute_volume(A, b)\n",
    "\n",
    "    # Compute the integral estimate\n",
    "    mean_est = compute_outer_product_mean(X, f)\n",
    "    return mean_est * vol\n",
    "end\n",
    "\n",
    "function mc_integrate_constrained_simplex(A, b, f; n=100_000)\n",
    "    # Sample points from the simplex using the Dirichlet distribution\n",
    "    X = rejection_sampler(n, size(A, 2), A, b, simple_simplex_sampler)\n",
    "\n",
    "    # Get augmented constraints with simplex for volume computation\n",
    "    A_simplex, b_simplex = get_simplex_constraints(size(A, 2))\n",
    "    A = vcat(A, A_simplex)\n",
    "    b = vcat(b, b_simplex)\n",
    "\n",
    "    # Compute the integral estimate\n",
    "    return compute_mc_integral(X, f, A, b)\n",
    "end\n",
    "\n",
    "function mc_integrate_constrained_hypercube(A, b, f; n=100_000)\n",
    "    sampler = (n, K) -> squeeze(DesignInitializer.init_design(n, K))\n",
    "    X = rejection_sampler(n, size(A, 2), A, b, sampler)\n",
    "    return compute_mc_integral(X, f, A, b)\n",
    "end\n",
    "\n",
    "function mc_integrate(A, b, f; n=100_000, mixture=true)\n",
    "    if mixture\n",
    "        return mc_integrate_constrained_simplex(A, b, f, n=n)\n",
    "    else\n",
    "        return mc_integrate_constrained_hypercube(A, b, f, n=n)\n",
    "    end\n",
    "end\n",
    "\n",
    "# Thanks ChatGPT\n",
    "function format_matrix(matrix::Matrix{Float64}; precision::Int=4, threshold::Float64=1e-4)\n",
    "    # Define a function to format a single number\n",
    "    format_number = x -> abs(x) < threshold ? 0.0 : round(x, digits=precision)\n",
    "\n",
    "    # Apply the formatting function to each element in the matrix\n",
    "    formatted_matrix = map(format_number, matrix)\n",
    "    \n",
    "    return formatted_matrix\n",
    "end"
   ]
  },
  {
   "cell_type": "code",
   "execution_count": 3,
   "metadata": {},
   "outputs": [
    {
     "data": {
      "text/plain": [
       "#20 (generic function with 1 method)"
      ]
     },
     "metadata": {},
     "output_type": "display_data"
    }
   ],
   "source": [
    "f = ModelBuilder.quadratic_interaction\n",
    "model_builder = (x) -> f(x)[:, [1, 2, 4, 6, 3, 5]]"
   ]
  },
  {
   "cell_type": "markdown",
   "metadata": {},
   "source": [
    "### Hypercube Example"
   ]
  },
  {
   "cell_type": "code",
   "execution_count": 5,
   "metadata": {},
   "outputs": [
    {
     "data": {
      "text/plain": [
       "4-element Vector{Int64}:\n",
       " 1\n",
       " 1\n",
       " 1\n",
       " 1"
      ]
     },
     "metadata": {},
     "output_type": "display_data"
    }
   ],
   "source": [
    "A = [\n",
    "    -1 0;\n",
    "    0 -1;\n",
    "    1 0;\n",
    "    0 1;\n",
    "]\n",
    "\n",
    "b = [\n",
    "    1;\n",
    "    1;\n",
    "    1;\n",
    "    1;\n",
    "]"
   ]
  },
  {
   "cell_type": "code",
   "execution_count": 10,
   "metadata": {},
   "outputs": [
    {
     "data": {
      "text/plain": [
       "6×6 Matrix{Float64}:\n",
       "  4.0          -0.000556312  -0.00231114  …   1.33433       1.33255\n",
       " -0.000556312   1.33433       0.00295631     -0.000518295  -0.00164794\n",
       " -0.00231114    0.00295631    1.33255        -3.73151e-5   -0.00233222\n",
       "  0.00295631   -3.73151e-5   -0.00164794      0.00137761    0.00207064\n",
       "  1.33433      -0.000518295  -3.73151e-5      0.800964      0.444516\n",
       "  1.33255      -0.00164794   -0.00233222  …   0.444516      0.799174"
      ]
     },
     "metadata": {},
     "output_type": "display_data"
    }
   ],
   "source": [
    "mat_integral = mc_integrate(A, b, model_builder; n=1_000_000, mixture=false)"
   ]
  },
  {
   "cell_type": "code",
   "execution_count": 8,
   "metadata": {},
   "outputs": [
    {
     "data": {
      "text/plain": [
       "6×6 Matrix{Float64}:\n",
       "  4.0     -0.0034   0.001    0.0      1.3346   1.3336\n",
       " -0.0034   1.3346   0.0      0.001   -0.0028  -0.0013\n",
       "  0.001    0.0      1.3336  -0.0013   0.001    0.0015\n",
       "  0.0      0.001   -0.0013   0.445   -0.0003   0.0006\n",
       "  1.3346  -0.0028   0.001   -0.0003   0.8011   0.445\n",
       "  1.3336  -0.0013   0.0015   0.0006   0.445    0.7999"
      ]
     },
     "metadata": {},
     "output_type": "display_data"
    }
   ],
   "source": [
    "format_matrix(mat_integral)"
   ]
  },
  {
   "cell_type": "code",
   "execution_count": 9,
   "metadata": {},
   "outputs": [
    {
     "data": {
      "text/plain": [
       "6×6 Matrix{Float64}:\n",
       "  1.0     -0.0009   0.0003   0.0      0.3336   0.3334\n",
       " -0.0009   0.3336   0.0      0.0003  -0.0007  -0.0003\n",
       "  0.0003   0.0      0.3334  -0.0003   0.0003   0.0004\n",
       "  0.0      0.0003  -0.0003   0.1113   0.0      0.0001\n",
       "  0.3336  -0.0007   0.0003   0.0      0.2003   0.1113\n",
       "  0.3334  -0.0003   0.0004   0.0001   0.1113   0.2"
      ]
     },
     "metadata": {},
     "output_type": "display_data"
    }
   ],
   "source": [
    "vol = compute_volume(A, b)\n",
    "format_matrix(mat_integral ./ vol)"
   ]
  },
  {
   "cell_type": "markdown",
   "metadata": {},
   "source": [
    "### Constrained Simplex Example"
   ]
  },
  {
   "cell_type": "code",
   "execution_count": 11,
   "metadata": {},
   "outputs": [
    {
     "data": {
      "text/plain": [
       "4-element Vector{Float64}:\n",
       " -0.1\n",
       "  0.6\n",
       "  3.9\n",
       " -3.0"
      ]
     },
     "metadata": {},
     "output_type": "display_data"
    }
   ],
   "source": [
    "A = [\n",
    "    0 -1 0;\n",
    "    0 0 1;\n",
    "    5 4 0;\n",
    "    -20 5 0;\n",
    "]\n",
    "\n",
    "b = [\n",
    "    -1/10;\n",
    "    3/5;\n",
    "    39/10;\n",
    "    -3;\n",
    "]"
   ]
  },
  {
   "cell_type": "code",
   "execution_count": 14,
   "metadata": {},
   "outputs": [
    {
     "data": {
      "text/plain": [
       "6×6 Matrix{Float64}:\n",
       " 0.0445833   0.0178404   0.0121779   0.014565    0.00765987   0.00393217\n",
       " 0.0178404   0.00765987  0.00464327  0.0055373   0.00350854   0.00144064\n",
       " 0.0121779   0.00464327  0.00393217  0.00360251  0.00188454   0.00144197\n",
       " 0.014565    0.0055373   0.00360251  0.00542514  0.00226679   0.00104955\n",
       " 0.00765987  0.00350854  0.00188454  0.00226679  0.00170058   0.000556067\n",
       " 0.00393217  0.00144064  0.00144197  0.00104955  0.000556067  0.000579413"
      ]
     },
     "metadata": {},
     "output_type": "display_data"
    }
   ],
   "source": [
    "mat_integral = mc_integrate(A, b, model_builder; n=1_000_000, mixture=true)"
   ]
  },
  {
   "cell_type": "code",
   "execution_count": 15,
   "metadata": {},
   "outputs": [
    {
     "data": {
      "text/plain": [
       "6×6 Matrix{Float64}:\n",
       " 0.0446  0.0178  0.0122  0.0146  0.0077  0.0039\n",
       " 0.0178  0.0077  0.0046  0.0055  0.0035  0.0014\n",
       " 0.0122  0.0046  0.0039  0.0036  0.0019  0.0014\n",
       " 0.0146  0.0055  0.0036  0.0054  0.0023  0.001\n",
       " 0.0077  0.0035  0.0019  0.0023  0.0017  0.0006\n",
       " 0.0039  0.0014  0.0014  0.001   0.0006  0.0006"
      ]
     },
     "metadata": {},
     "output_type": "display_data"
    }
   ],
   "source": [
    "format_matrix(mat_integral)"
   ]
  },
  {
   "cell_type": "code",
   "execution_count": 45,
   "metadata": {},
   "outputs": [
    {
     "data": {
      "text/plain": [
       "0.044583333333333336"
      ]
     },
     "metadata": {},
     "output_type": "display_data"
    }
   ],
   "source": [
    "A_simplex, b_simplex = get_simplex_constraints(size(A, 2))\n",
    "A = vcat(A, A_simplex)\n",
    "b = vcat(b, b_simplex)\n",
    "vol = compute_volume(A, b)"
   ]
  },
  {
   "cell_type": "markdown",
   "metadata": {},
   "source": [
    "### Integrating the Objective Function\n",
    "Integrating the D-Criterion for $N=12, K=3$ mixture designs."
   ]
  },
  {
   "cell_type": "code",
   "execution_count": 46,
   "metadata": {},
   "outputs": [],
   "source": [
    "model_builder = ModelBuilder.quadratic_interaction\n",
    "obj = OptimalityCriterion.d_criterion\n",
    "f = obj ∘ model_builder\n",
    "X = rejection_sampler(12 * 1_000_000, 3, A, b, simple_simplex_sampler)\n",
    "X = reshape(X, (1_000_000, 12, 3))"
   ]
  }
 ],
 "metadata": {
  "kernelspec": {
   "display_name": "Julia 1.9.3",
   "language": "julia",
   "name": "julia-1.9"
  },
  "language_info": {
   "file_extension": ".jl",
   "mimetype": "application/julia",
   "name": "julia",
   "version": "1.9.3"
  }
 },
 "nbformat": 4,
 "nbformat_minor": 2
}
